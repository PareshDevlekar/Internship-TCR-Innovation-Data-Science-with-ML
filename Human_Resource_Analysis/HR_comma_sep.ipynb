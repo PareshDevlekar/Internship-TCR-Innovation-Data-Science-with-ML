{
  "nbformat": 4,
  "nbformat_minor": 0,
  "metadata": {
    "colab": {
      "name": "HR_comma_sep.ipynb",
      "provenance": [],
      "collapsed_sections": []
    },
    "kernelspec": {
      "name": "python3",
      "display_name": "Python 3"
    },
    "language_info": {
      "name": "python"
    }
  },
  "cells": [
    {
      "cell_type": "code",
      "metadata": {
        "id": "gSE4OsanLFAx"
      },
      "source": [
        "import pandas as pd \n",
        "import numpy as np \n",
        "import seaborn as sns \n",
        "import matplotlib.pyplot as plt \n",
        "import warnings \n",
        "warnings.filterwarnings('ignore') \n"
      ],
      "execution_count": 2,
      "outputs": []
    },
    {
      "cell_type": "code",
      "metadata": {
        "id": "eIal_lwTLkiP"
      },
      "source": [
        "data=pd.read_csv(\"/content/sample_data/HR_comma_sep (1).csv\")"
      ],
      "execution_count": 33,
      "outputs": []
    },
    {
      "cell_type": "code",
      "metadata": {
        "colab": {
          "base_uri": "https://localhost:8080/",
          "height": 224
        },
        "id": "dFVGUVNqLkq7",
        "outputId": "36541852-c1fe-4ab8-c1d0-a2a8e330cb03"
      },
      "source": [
        "data.head() "
      ],
      "execution_count": 34,
      "outputs": [
        {
          "output_type": "execute_result",
          "data": {
            "text/html": [
              "<div>\n",
              "<style scoped>\n",
              "    .dataframe tbody tr th:only-of-type {\n",
              "        vertical-align: middle;\n",
              "    }\n",
              "\n",
              "    .dataframe tbody tr th {\n",
              "        vertical-align: top;\n",
              "    }\n",
              "\n",
              "    .dataframe thead th {\n",
              "        text-align: right;\n",
              "    }\n",
              "</style>\n",
              "<table border=\"1\" class=\"dataframe\">\n",
              "  <thead>\n",
              "    <tr style=\"text-align: right;\">\n",
              "      <th></th>\n",
              "      <th>satisfaction_level</th>\n",
              "      <th>last_evaluation</th>\n",
              "      <th>number_project</th>\n",
              "      <th>average_montly_hours</th>\n",
              "      <th>time_spend_company</th>\n",
              "      <th>Work_accident</th>\n",
              "      <th>left</th>\n",
              "      <th>promotion_last_5years</th>\n",
              "      <th>Departments</th>\n",
              "      <th>salary</th>\n",
              "    </tr>\n",
              "  </thead>\n",
              "  <tbody>\n",
              "    <tr>\n",
              "      <th>0</th>\n",
              "      <td>0.38</td>\n",
              "      <td>0.53</td>\n",
              "      <td>2</td>\n",
              "      <td>157</td>\n",
              "      <td>3</td>\n",
              "      <td>0</td>\n",
              "      <td>1</td>\n",
              "      <td>0</td>\n",
              "      <td>sales</td>\n",
              "      <td>low</td>\n",
              "    </tr>\n",
              "    <tr>\n",
              "      <th>1</th>\n",
              "      <td>0.80</td>\n",
              "      <td>0.86</td>\n",
              "      <td>5</td>\n",
              "      <td>262</td>\n",
              "      <td>6</td>\n",
              "      <td>0</td>\n",
              "      <td>1</td>\n",
              "      <td>0</td>\n",
              "      <td>sales</td>\n",
              "      <td>medium</td>\n",
              "    </tr>\n",
              "    <tr>\n",
              "      <th>2</th>\n",
              "      <td>0.11</td>\n",
              "      <td>0.88</td>\n",
              "      <td>7</td>\n",
              "      <td>272</td>\n",
              "      <td>4</td>\n",
              "      <td>0</td>\n",
              "      <td>1</td>\n",
              "      <td>0</td>\n",
              "      <td>sales</td>\n",
              "      <td>medium</td>\n",
              "    </tr>\n",
              "    <tr>\n",
              "      <th>3</th>\n",
              "      <td>0.72</td>\n",
              "      <td>0.87</td>\n",
              "      <td>5</td>\n",
              "      <td>223</td>\n",
              "      <td>5</td>\n",
              "      <td>0</td>\n",
              "      <td>1</td>\n",
              "      <td>0</td>\n",
              "      <td>sales</td>\n",
              "      <td>low</td>\n",
              "    </tr>\n",
              "    <tr>\n",
              "      <th>4</th>\n",
              "      <td>0.37</td>\n",
              "      <td>0.52</td>\n",
              "      <td>2</td>\n",
              "      <td>159</td>\n",
              "      <td>3</td>\n",
              "      <td>0</td>\n",
              "      <td>1</td>\n",
              "      <td>0</td>\n",
              "      <td>sales</td>\n",
              "      <td>low</td>\n",
              "    </tr>\n",
              "  </tbody>\n",
              "</table>\n",
              "</div>"
            ],
            "text/plain": [
              "   satisfaction_level  last_evaluation  ...  Departments   salary\n",
              "0                0.38             0.53  ...         sales     low\n",
              "1                0.80             0.86  ...         sales  medium\n",
              "2                0.11             0.88  ...         sales  medium\n",
              "3                0.72             0.87  ...         sales     low\n",
              "4                0.37             0.52  ...         sales     low\n",
              "\n",
              "[5 rows x 10 columns]"
            ]
          },
          "metadata": {
            "tags": []
          },
          "execution_count": 34
        }
      ]
    },
    {
      "cell_type": "code",
      "metadata": {
        "colab": {
          "base_uri": "https://localhost:8080/",
          "height": 297
        },
        "id": "lxpXy3mJLkt-",
        "outputId": "5d4a504b-2c92-4a46-85ac-69d9a1b25aab"
      },
      "source": [
        "data.describe() \n"
      ],
      "execution_count": 8,
      "outputs": [
        {
          "output_type": "execute_result",
          "data": {
            "text/html": [
              "<div>\n",
              "<style scoped>\n",
              "    .dataframe tbody tr th:only-of-type {\n",
              "        vertical-align: middle;\n",
              "    }\n",
              "\n",
              "    .dataframe tbody tr th {\n",
              "        vertical-align: top;\n",
              "    }\n",
              "\n",
              "    .dataframe thead th {\n",
              "        text-align: right;\n",
              "    }\n",
              "</style>\n",
              "<table border=\"1\" class=\"dataframe\">\n",
              "  <thead>\n",
              "    <tr style=\"text-align: right;\">\n",
              "      <th></th>\n",
              "      <th>satisfaction_level</th>\n",
              "      <th>last_evaluation</th>\n",
              "      <th>number_project</th>\n",
              "      <th>average_montly_hours</th>\n",
              "      <th>time_spend_company</th>\n",
              "      <th>Work_accident</th>\n",
              "      <th>left</th>\n",
              "      <th>promotion_last_5years</th>\n",
              "    </tr>\n",
              "  </thead>\n",
              "  <tbody>\n",
              "    <tr>\n",
              "      <th>count</th>\n",
              "      <td>14999.000000</td>\n",
              "      <td>14999.000000</td>\n",
              "      <td>14999.000000</td>\n",
              "      <td>14999.000000</td>\n",
              "      <td>14999.000000</td>\n",
              "      <td>14999.000000</td>\n",
              "      <td>14999.000000</td>\n",
              "      <td>14999.000000</td>\n",
              "    </tr>\n",
              "    <tr>\n",
              "      <th>mean</th>\n",
              "      <td>0.612834</td>\n",
              "      <td>0.716102</td>\n",
              "      <td>3.803054</td>\n",
              "      <td>201.050337</td>\n",
              "      <td>3.498233</td>\n",
              "      <td>0.144610</td>\n",
              "      <td>0.238083</td>\n",
              "      <td>0.021268</td>\n",
              "    </tr>\n",
              "    <tr>\n",
              "      <th>std</th>\n",
              "      <td>0.248631</td>\n",
              "      <td>0.171169</td>\n",
              "      <td>1.232592</td>\n",
              "      <td>49.943099</td>\n",
              "      <td>1.460136</td>\n",
              "      <td>0.351719</td>\n",
              "      <td>0.425924</td>\n",
              "      <td>0.144281</td>\n",
              "    </tr>\n",
              "    <tr>\n",
              "      <th>min</th>\n",
              "      <td>0.090000</td>\n",
              "      <td>0.360000</td>\n",
              "      <td>2.000000</td>\n",
              "      <td>96.000000</td>\n",
              "      <td>2.000000</td>\n",
              "      <td>0.000000</td>\n",
              "      <td>0.000000</td>\n",
              "      <td>0.000000</td>\n",
              "    </tr>\n",
              "    <tr>\n",
              "      <th>25%</th>\n",
              "      <td>0.440000</td>\n",
              "      <td>0.560000</td>\n",
              "      <td>3.000000</td>\n",
              "      <td>156.000000</td>\n",
              "      <td>3.000000</td>\n",
              "      <td>0.000000</td>\n",
              "      <td>0.000000</td>\n",
              "      <td>0.000000</td>\n",
              "    </tr>\n",
              "    <tr>\n",
              "      <th>50%</th>\n",
              "      <td>0.640000</td>\n",
              "      <td>0.720000</td>\n",
              "      <td>4.000000</td>\n",
              "      <td>200.000000</td>\n",
              "      <td>3.000000</td>\n",
              "      <td>0.000000</td>\n",
              "      <td>0.000000</td>\n",
              "      <td>0.000000</td>\n",
              "    </tr>\n",
              "    <tr>\n",
              "      <th>75%</th>\n",
              "      <td>0.820000</td>\n",
              "      <td>0.870000</td>\n",
              "      <td>5.000000</td>\n",
              "      <td>245.000000</td>\n",
              "      <td>4.000000</td>\n",
              "      <td>0.000000</td>\n",
              "      <td>0.000000</td>\n",
              "      <td>0.000000</td>\n",
              "    </tr>\n",
              "    <tr>\n",
              "      <th>max</th>\n",
              "      <td>1.000000</td>\n",
              "      <td>1.000000</td>\n",
              "      <td>7.000000</td>\n",
              "      <td>310.000000</td>\n",
              "      <td>10.000000</td>\n",
              "      <td>1.000000</td>\n",
              "      <td>1.000000</td>\n",
              "      <td>1.000000</td>\n",
              "    </tr>\n",
              "  </tbody>\n",
              "</table>\n",
              "</div>"
            ],
            "text/plain": [
              "       satisfaction_level  last_evaluation  ...          left  promotion_last_5years\n",
              "count        14999.000000     14999.000000  ...  14999.000000           14999.000000\n",
              "mean             0.612834         0.716102  ...      0.238083               0.021268\n",
              "std              0.248631         0.171169  ...      0.425924               0.144281\n",
              "min              0.090000         0.360000  ...      0.000000               0.000000\n",
              "25%              0.440000         0.560000  ...      0.000000               0.000000\n",
              "50%              0.640000         0.720000  ...      0.000000               0.000000\n",
              "75%              0.820000         0.870000  ...      0.000000               0.000000\n",
              "max              1.000000         1.000000  ...      1.000000               1.000000\n",
              "\n",
              "[8 rows x 8 columns]"
            ]
          },
          "metadata": {
            "tags": []
          },
          "execution_count": 8
        }
      ]
    },
    {
      "cell_type": "code",
      "metadata": {
        "colab": {
          "base_uri": "https://localhost:8080/"
        },
        "id": "zrqi1uGLLkwo",
        "outputId": "383437b9-e01d-4ab7-fd14-9102be4b3c5a"
      },
      "source": [
        "data.shape"
      ],
      "execution_count": 9,
      "outputs": [
        {
          "output_type": "execute_result",
          "data": {
            "text/plain": [
              "(14999, 10)"
            ]
          },
          "metadata": {
            "tags": []
          },
          "execution_count": 9
        }
      ]
    },
    {
      "cell_type": "code",
      "metadata": {
        "colab": {
          "base_uri": "https://localhost:8080/"
        },
        "id": "Hh-qPCoLLkzP",
        "outputId": "81d8e3fd-ef5a-44ef-e03a-583f509b461c"
      },
      "source": [
        "data.columns"
      ],
      "execution_count": 22,
      "outputs": [
        {
          "output_type": "execute_result",
          "data": {
            "text/plain": [
              "Index(['satisfaction_level', 'last_evaluation', 'number_project',\n",
              "       'average_montly_hours', 'time_spend_company', 'Work_accident', 'left',\n",
              "       'promotion_last_5years', 'Departments ', 'salary'],\n",
              "      dtype='object')"
            ]
          },
          "metadata": {
            "tags": []
          },
          "execution_count": 22
        }
      ]
    },
    {
      "cell_type": "code",
      "metadata": {
        "colab": {
          "base_uri": "https://localhost:8080/"
        },
        "id": "ceZcirNkLk1-",
        "outputId": "d803b038-03db-4a05-f4cb-1de96f87cf46"
      },
      "source": [
        "data.keys()"
      ],
      "execution_count": 23,
      "outputs": [
        {
          "output_type": "execute_result",
          "data": {
            "text/plain": [
              "Index(['satisfaction_level', 'last_evaluation', 'number_project',\n",
              "       'average_montly_hours', 'time_spend_company', 'Work_accident', 'left',\n",
              "       'promotion_last_5years', 'Departments ', 'salary'],\n",
              "      dtype='object')"
            ]
          },
          "metadata": {
            "tags": []
          },
          "execution_count": 23
        }
      ]
    },
    {
      "cell_type": "code",
      "metadata": {
        "colab": {
          "base_uri": "https://localhost:8080/"
        },
        "id": "JqIS_XbwSEcA",
        "outputId": "5819fda7-d906-4599-e285-e998ea97b82a"
      },
      "source": [
        "data.info()"
      ],
      "execution_count": 24,
      "outputs": [
        {
          "output_type": "stream",
          "text": [
            "<class 'pandas.core.frame.DataFrame'>\n",
            "RangeIndex: 14999 entries, 0 to 14998\n",
            "Data columns (total 10 columns):\n",
            " #   Column                 Non-Null Count  Dtype  \n",
            "---  ------                 --------------  -----  \n",
            " 0   satisfaction_level     14999 non-null  float64\n",
            " 1   last_evaluation        14999 non-null  float64\n",
            " 2   number_project         14999 non-null  int64  \n",
            " 3   average_montly_hours   14999 non-null  int64  \n",
            " 4   time_spend_company     14999 non-null  int64  \n",
            " 5   Work_accident          14999 non-null  int64  \n",
            " 6   left                   14999 non-null  int64  \n",
            " 7   promotion_last_5years  14999 non-null  int64  \n",
            " 8   Departments            14999 non-null  object \n",
            " 9   salary                 14999 non-null  object \n",
            "dtypes: float64(2), int64(6), object(2)\n",
            "memory usage: 1.1+ MB\n"
          ],
          "name": "stdout"
        }
      ]
    },
    {
      "cell_type": "code",
      "metadata": {
        "colab": {
          "base_uri": "https://localhost:8080/"
        },
        "id": "Rs_lHaAMSEkM",
        "outputId": "d2f0171c-6de9-4bab-957f-0d0c61cb5c4d"
      },
      "source": [
        "data.isnull().sum()"
      ],
      "execution_count": 25,
      "outputs": [
        {
          "output_type": "execute_result",
          "data": {
            "text/plain": [
              "satisfaction_level       0\n",
              "last_evaluation          0\n",
              "number_project           0\n",
              "average_montly_hours     0\n",
              "time_spend_company       0\n",
              "Work_accident            0\n",
              "left                     0\n",
              "promotion_last_5years    0\n",
              "Departments              0\n",
              "salary                   0\n",
              "dtype: int64"
            ]
          },
          "metadata": {
            "tags": []
          },
          "execution_count": 25
        }
      ]
    },
    {
      "cell_type": "code",
      "metadata": {
        "colab": {
          "base_uri": "https://localhost:8080/",
          "height": 282
        },
        "id": "3eUW33jfSu5Y",
        "outputId": "cd1681f2-61de-43c8-cc81-5c285109ee25"
      },
      "source": [
        "plt.plot([1,2,3],[4,5,6]) "
      ],
      "execution_count": 26,
      "outputs": [
        {
          "output_type": "execute_result",
          "data": {
            "text/plain": [
              "[<matplotlib.lines.Line2D at 0x7fa51bf93510>]"
            ]
          },
          "metadata": {
            "tags": []
          },
          "execution_count": 26
        },
        {
          "output_type": "display_data",
          "data": {
            "image/png": "[encoded data removed]",
            "text/plain": [
              "<Figure size 432x288 with 1 Axes>"
            ]
          },
          "metadata": {
            "tags": [],
            "needs_background": "light"
          }
        }
      ]
    },
    {
      "cell_type": "code",
      "metadata": {
        "colab": {
          "base_uri": "https://localhost:8080/",
          "height": 295
        },
        "id": "xd_hZjicSu-w",
        "outputId": "e8c72cc2-8158-433e-a815-224fed26eda5"
      },
      "source": [
        "plt.plot([1,2,3],[4,5,6],color='r') \n",
        "plt.title(\"Basic\") \n",
        "plt.ylabel('Yaxis') \n",
        "plt.xlabel('Xaxis') \n",
        "plt.show() \n"
      ],
      "execution_count": 27,
      "outputs": [
        {
          "output_type": "display_data",
          "data": {
            "image/png": "[encoded data removed]",
            "text/plain": [
              "<Figure size 432x288 with 1 Axes>"
            ]
          },
          "metadata": {
            "tags": [],
            "needs_background": "light"
          }
        }
      ]
    },
    {
      "cell_type": "code",
      "metadata": {
        "colab": {
          "base_uri": "https://localhost:8080/",
          "height": 282
        },
        "id": "hKikZlrQSvDk",
        "outputId": "ea36eec3-292a-4bc8-e17e-0f2b9ad2e4f6"
      },
      "source": [
        "plt.bar(data['number_project'],data['satisfaction_level'],color='g')"
      ],
      "execution_count": 30,
      "outputs": [
        {
          "output_type": "execute_result",
          "data": {
            "text/plain": [
              "<BarContainer object of 14999 artists>"
            ]
          },
          "metadata": {
            "tags": []
          },
          "execution_count": 30
        },
        {
          "output_type": "display_data",
          "data": {
            "image/png": "[encoded data removed]",
            "text/plain": [
              "<Figure size 432x288 with 1 Axes>"
            ]
          },
          "metadata": {
            "tags": [],
            "needs_background": "light"
          }
        }
      ]
    },
    {
      "cell_type": "markdown",
      "metadata": {
        "id": "4RwsOpFqTabQ"
      },
      "source": [
        "HISTOGRAM"
      ]
    },
    {
      "cell_type": "code",
      "metadata": {
        "colab": {
          "base_uri": "https://localhost:8080/",
          "height": 282
        },
        "id": "Gpa7wnTBSvGN",
        "outputId": "9574a0d2-7a1b-42e5-f77f-45b66f25c282"
      },
      "source": [
        "plt.bar(data['number_project'],data['salary'],color='r') "
      ],
      "execution_count": 29,
      "outputs": [
        {
          "output_type": "execute_result",
          "data": {
            "text/plain": [
              "<BarContainer object of 14999 artists>"
            ]
          },
          "metadata": {
            "tags": []
          },
          "execution_count": 29
        },
        {
          "output_type": "display_data",
          "data": {
            "image/png": "[encoded data removed]",
            "text/plain": [
              "<Figure size 432x288 with 1 Axes>"
            ]
          },
          "metadata": {
            "tags": [],
            "needs_background": "light"
          }
        }
      ]
    },
    {
      "cell_type": "code",
      "metadata": {
        "colab": {
          "base_uri": "https://localhost:8080/",
          "height": 350
        },
        "id": "0BcFMNqsSvMK",
        "outputId": "4f29905a-4346-4edf-a0db-5cb1404ca9ad"
      },
      "source": [
        "plt.hist(data['satisfaction_level'],color='g') "
      ],
      "execution_count": 37,
      "outputs": [
        {
          "output_type": "execute_result",
          "data": {
            "text/plain": [
              "(array([1335.,  498.,  477., 1778., 1471., 1775., 1768., 2115., 1998.,\n",
              "        1784.]),\n",
              " array([0.09 , 0.181, 0.272, 0.363, 0.454, 0.545, 0.636, 0.727, 0.818,\n",
              "        0.909, 1.   ]),\n",
              " <a list of 10 Patch objects>)"
            ]
          },
          "metadata": {
            "tags": []
          },
          "execution_count": 37
        },
        {
          "output_type": "display_data",
          "data": {
            "image/png": "[encoded data removed]",
            "text/plain": [
              "<Figure size 432x288 with 1 Axes>"
            ]
          },
          "metadata": {
            "tags": [],
            "needs_background": "light"
          }
        }
      ]
    },
    {
      "cell_type": "code",
      "metadata": {
        "colab": {
          "base_uri": "https://localhost:8080/",
          "height": 350
        },
        "id": "khHOSI_aTyvE",
        "outputId": "c735d92a-1479-42db-9b4b-0f94ffebf45d"
      },
      "source": [
        "plt.hist(data['average_montly_hours'])"
      ],
      "execution_count": 34,
      "outputs": [
        {
          "output_type": "execute_result",
          "data": {
            "text/plain": [
              "(array([ 367., 1240., 2733., 1722., 1628., 1712., 1906., 2240., 1127.,\n",
              "         324.]),\n",
              " array([ 96. , 117.4, 138.8, 160.2, 181.6, 203. , 224.4, 245.8, 267.2,\n",
              "        288.6, 310. ]),\n",
              " <a list of 10 Patch objects>)"
            ]
          },
          "metadata": {
            "tags": []
          },
          "execution_count": 34
        },
        {
          "output_type": "display_data",
          "data": {
            "image/png": "[encoded data removed]",
            "text/plain": [
              "<Figure size 432x288 with 1 Axes>"
            ]
          },
          "metadata": {
            "tags": [],
            "needs_background": "light"
          }
        }
      ]
    },
    {
      "cell_type": "markdown",
      "metadata": {
        "id": "xChqPiz1TnP7"
      },
      "source": [
        "SCATTERPLOT\n"
      ]
    },
    {
      "cell_type": "code",
      "metadata": {
        "colab": {
          "base_uri": "https://localhost:8080/",
          "height": 265
        },
        "id": "vjORK2GLSvPf",
        "outputId": "893b61b2-36e5-4078-93e1-f58a54a894b4"
      },
      "source": [
        "plt.scatter(data['average_montly_hours'],data['Work_accident'],color='g') \n",
        "plt.show() "
      ],
      "execution_count": 32,
      "outputs": [
        {
          "output_type": "display_data",
          "data": {
            "image/png": "[encoded data removed]",
            "text/plain": [
              "<Figure size 432x288 with 1 Axes>"
            ]
          },
          "metadata": {
            "tags": [],
            "needs_background": "light"
          }
        }
      ]
    },
    {
      "cell_type": "code",
      "metadata": {
        "colab": {
          "base_uri": "https://localhost:8080/",
          "height": 282
        },
        "id": "lZTixuRvSvYv",
        "outputId": "3a8a57c7-8f7f-4659-ad02-b1a84fa31779"
      },
      "source": [
        "plt.scatter(data['satisfaction_level'],data['number_project'])"
      ],
      "execution_count": 39,
      "outputs": [
        {
          "output_type": "execute_result",
          "data": {
            "text/plain": [
              "<matplotlib.collections.PathCollection at 0x7fa4ebd4a6d0>"
            ]
          },
          "metadata": {
            "tags": []
          },
          "execution_count": 39
        },
        {
          "output_type": "display_data",
          "data": {
            "image/png": "[encoded data removed]",
            "text/plain": [
              "<Figure size 432x288 with 1 Axes>"
            ]
          },
          "metadata": {
            "tags": [],
            "needs_background": "light"
          }
        }
      ]
    },
    {
      "cell_type": "code",
      "metadata": {
        "colab": {
          "base_uri": "https://localhost:8080/",
          "height": 282
        },
        "id": "8O27xuX0SveJ",
        "outputId": "de29569b-286f-4867-88b8-461d0c7be16e"
      },
      "source": [
        "plt.scatter(data['satisfaction_level'],data['last_evaluation'])"
      ],
      "execution_count": 40,
      "outputs": [
        {
          "output_type": "execute_result",
          "data": {
            "text/plain": [
              "<matplotlib.collections.PathCollection at 0x7fa4ebd25c90>"
            ]
          },
          "metadata": {
            "tags": []
          },
          "execution_count": 40
        },
        {
          "output_type": "display_data",
          "data": {
            "image/png": "[encoded data removed]",
            "text/plain": [
              "<Figure size 432x288 with 1 Axes>"
            ]
          },
          "metadata": {
            "tags": [],
            "needs_background": "light"
          }
        }
      ]
    },
    {
      "cell_type": "markdown",
      "metadata": {
        "id": "3nC0U5mfUPEl"
      },
      "source": [
        "SEABORN \n",
        "HEATMAP \n"
      ]
    },
    {
      "cell_type": "code",
      "metadata": {
        "colab": {
          "base_uri": "https://localhost:8080/",
          "height": 390
        },
        "id": "tZkRGs34SwAR",
        "outputId": "b3932f14-467b-473b-d60f-b351faeff51d"
      },
      "source": [
        "sns.heatmap(data.isnull())"
      ],
      "execution_count": 41,
      "outputs": [
        {
          "output_type": "execute_result",
          "data": {
            "text/plain": [
              "<matplotlib.axes._subplots.AxesSubplot at 0x7fa4eb08e750>"
            ]
          },
          "metadata": {
            "tags": []
          },
          "execution_count": 41
        },
        {
          "output_type": "display_data",
          "data": {
            "image/png": "[encoded data removed]",
            "text/plain": [
              "<Figure size 432x288 with 2 Axes>"
            ]
          },
          "metadata": {
            "tags": [],
            "needs_background": "light"
          }
        }
      ]
    },
    {
      "cell_type": "markdown",
      "metadata": {
        "id": "zUPVOTH9Uau8"
      },
      "source": [
        "COUNTPLOT"
      ]
    },
    {
      "cell_type": "code",
      "metadata": {
        "colab": {
          "base_uri": "https://localhost:8080/",
          "height": 296
        },
        "id": "RKfdzxrJSwEt",
        "outputId": "2c02e55d-be82-4dcb-9106-c8087c5fb668"
      },
      "source": [
        "sns.countplot(x='left',data=data) "
      ],
      "execution_count": 10,
      "outputs": [
        {
          "output_type": "execute_result",
          "data": {
            "text/plain": [
              "<matplotlib.axes._subplots.AxesSubplot at 0x7fb1ffaf8550>"
            ]
          },
          "metadata": {
            "tags": []
          },
          "execution_count": 10
        },
        {
          "output_type": "display_data",
          "data": {
            "image/png": "[encoded data removed]",
            "text/plain": [
              "<Figure size 432x288 with 1 Axes>"
            ]
          },
          "metadata": {
            "tags": [],
            "needs_background": "light"
          }
        }
      ]
    },
    {
      "cell_type": "code",
      "metadata": {
        "colab": {
          "base_uri": "https://localhost:8080/",
          "height": 296
        },
        "id": "zq1zCT0AUlid",
        "outputId": "d015d78c-c942-4066-fea0-f48cbec815b4"
      },
      "source": [
        "sns.countplot(x='left',hue='Departments ',data=data)"
      ],
      "execution_count": 43,
      "outputs": [
        {
          "output_type": "execute_result",
          "data": {
            "text/plain": [
              "<matplotlib.axes._subplots.AxesSubplot at 0x7fa4ebe60390>"
            ]
          },
          "metadata": {
            "tags": []
          },
          "execution_count": 43
        },
        {
          "output_type": "display_data",
          "data": {
            "image/png": "[encoded data removed]",
            "text/plain": [
              "<Figure size 432x288 with 1 Axes>"
            ]
          },
          "metadata": {
            "tags": [],
            "needs_background": "light"
          }
        }
      ]
    },
    {
      "cell_type": "code",
      "metadata": {
        "id": "npeH_qnyUls9"
      },
      "source": [
        "notleft=data[data['left']==1] \n",
        "left=data[data['left']==0]"
      ],
      "execution_count": 46,
      "outputs": []
    },
    {
      "cell_type": "markdown",
      "metadata": {
        "id": "5z0oixTeU_TS"
      },
      "source": [
        "DISTPLOT "
      ]
    },
    {
      "cell_type": "code",
      "metadata": {
        "colab": {
          "base_uri": "https://localhost:8080/",
          "height": 297
        },
        "id": "VqT6kP5iUl9i",
        "outputId": "903cbb21-6d95-4648-fc80-b2ad5a41dd32"
      },
      "source": [
        "sns.distplot(left['satisfaction_level'])"
      ],
      "execution_count": 47,
      "outputs": [
        {
          "output_type": "execute_result",
          "data": {
            "text/plain": [
              "<matplotlib.axes._subplots.AxesSubplot at 0x7fa4ebc89150>"
            ]
          },
          "metadata": {
            "tags": []
          },
          "execution_count": 47
        },
        {
          "output_type": "display_data",
          "data": {
            "image/png": "[encoded data removed]",
            "text/plain": [
              "<Figure size 432x288 with 1 Axes>"
            ]
          },
          "metadata": {
            "tags": [],
            "needs_background": "light"
          }
        }
      ]
    },
    {
      "cell_type": "code",
      "metadata": {
        "colab": {
          "base_uri": "https://localhost:8080/",
          "height": 297
        },
        "id": "SXCny-XFUmCV",
        "outputId": "9df35915-89fd-4d74-e044-b7953661f913"
      },
      "source": [
        "sns.distplot(notleft['satisfaction_level'])"
      ],
      "execution_count": 48,
      "outputs": [
        {
          "output_type": "execute_result",
          "data": {
            "text/plain": [
              "<matplotlib.axes._subplots.AxesSubplot at 0x7fa4ebd810d0>"
            ]
          },
          "metadata": {
            "tags": []
          },
          "execution_count": 48
        },
        {
          "output_type": "display_data",
          "data": {
            "image/png": "[encoded data removed]",
            "text/plain": [
              "<Figure size 432x288 with 1 Axes>"
            ]
          },
          "metadata": {
            "tags": [],
            "needs_background": "light"
          }
        }
      ]
    },
    {
      "cell_type": "markdown",
      "metadata": {
        "id": "dU6yjt-jVJjR"
      },
      "source": [
        "BOXPLOT"
      ]
    },
    {
      "cell_type": "code",
      "metadata": {
        "colab": {
          "base_uri": "https://localhost:8080/",
          "height": 296
        },
        "id": "trMATx8gUmGo",
        "outputId": "83020acb-e2a0-4ddd-c09b-286535ca7a76"
      },
      "source": [
        "sns.boxplot(x='left',y='satisfaction_level',data=data)"
      ],
      "execution_count": 49,
      "outputs": [
        {
          "output_type": "execute_result",
          "data": {
            "text/plain": [
              "<matplotlib.axes._subplots.AxesSubplot at 0x7fa4ebd982d0>"
            ]
          },
          "metadata": {
            "tags": []
          },
          "execution_count": 49
        },
        {
          "output_type": "display_data",
          "data": {
            "image/png": "[encoded data removed]",
            "text/plain": [
              "<Figure size 432x288 with 1 Axes>"
            ]
          },
          "metadata": {
            "tags": [],
            "needs_background": "light"
          }
        }
      ]
    },
    {
      "cell_type": "code",
      "metadata": {
        "colab": {
          "base_uri": "https://localhost:8080/",
          "height": 297
        },
        "id": "IzbvdVUWUmnB",
        "outputId": "5a167a21-c5a4-448c-b204-c956a5879ecf"
      },
      "source": [
        "sns.boxplot(x='Departments ',y='satisfaction_level',data=data)"
      ],
      "execution_count": 50,
      "outputs": [
        {
          "output_type": "execute_result",
          "data": {
            "text/plain": [
              "<matplotlib.axes._subplots.AxesSubplot at 0x7fa4ebc04550>"
            ]
          },
          "metadata": {
            "tags": []
          },
          "execution_count": 50
        },
        {
          "output_type": "display_data",
          "data": {
            "image/png": "[encoded data removed]",
            "text/plain": [
              "<Figure size 432x288 with 1 Axes>"
            ]
          },
          "metadata": {
            "tags": [],
            "needs_background": "light"
          }
        }
      ]
    },
    {
      "cell_type": "markdown",
      "metadata": {
        "id": "P7nZ-bYhYWzi"
      },
      "source": [
        "violin plot"
      ]
    },
    {
      "cell_type": "code",
      "metadata": {
        "colab": {
          "base_uri": "https://localhost:8080/",
          "height": 400
        },
        "id": "mOOU7jJlUmqN",
        "outputId": "7569bdcc-3349-4ee5-8ecf-cb353b00e44e"
      },
      "source": [
        "sns.catplot(x=\"Departments \", y=\"satisfaction_level\", hue=\"Work_accident\",\n",
        "            kind=\"violin\", data=data)"
      ],
      "execution_count": 56,
      "outputs": [
        {
          "output_type": "execute_result",
          "data": {
            "text/plain": [
              "<seaborn.axisgrid.FacetGrid at 0x7fa4df531110>"
            ]
          },
          "metadata": {
            "tags": []
          },
          "execution_count": 56
        },
        {
          "output_type": "display_data",
          "data": {
            "image/png": "[encoded data removed]",
            "text/plain": [
              "<Figure size 440.875x360 with 1 Axes>"
            ]
          },
          "metadata": {
            "tags": [],
            "needs_background": "light"
          }
        }
      ]
    },
    {
      "cell_type": "markdown",
      "metadata": {
        "id": "huLEIyXCYTGG"
      },
      "source": [
        "line plot"
      ]
    },
    {
      "cell_type": "code",
      "metadata": {
        "colab": {
          "base_uri": "https://localhost:8080/",
          "height": 400
        },
        "id": "oetu5mirUmtl",
        "outputId": "04eb55e6-73c6-47e8-b2a3-0ea7d7fc0aa8"
      },
      "source": [
        "sns.catplot(x=\"Departments \", y=\"satisfaction_level\", hue=\"salary\", kind=\"point\", data=data)"
      ],
      "execution_count": 58,
      "outputs": [
        {
          "output_type": "execute_result",
          "data": {
            "text/plain": [
              "<seaborn.axisgrid.FacetGrid at 0x7fa4ddbe2e90>"
            ]
          },
          "metadata": {
            "tags": []
          },
          "execution_count": 58
        },
        {
          "output_type": "display_data",
          "data": {
            "image/png": "[encoded data removed]",
            "text/plain": [
              "<Figure size 437x360 with 1 Axes>"
            ]
          },
          "metadata": {
            "tags": [],
            "needs_background": "light"
          }
        }
      ]
    },
    {
      "cell_type": "code",
      "metadata": {
        "colab": {
          "base_uri": "https://localhost:8080/",
          "height": 419
        },
        "id": "HbN8hlkZfare",
        "outputId": "c84e880f-8ff5-459b-ba9b-6e57ffb6fcea"
      },
      "source": [
        "sal=pd.get_dummies(data['salary'],drop_first=True)\n",
        "sal"
      ],
      "execution_count": 35,
      "outputs": [
        {
          "output_type": "execute_result",
          "data": {
            "text/html": [
              "<div>\n",
              "<style scoped>\n",
              "    .dataframe tbody tr th:only-of-type {\n",
              "        vertical-align: middle;\n",
              "    }\n",
              "\n",
              "    .dataframe tbody tr th {\n",
              "        vertical-align: top;\n",
              "    }\n",
              "\n",
              "    .dataframe thead th {\n",
              "        text-align: right;\n",
              "    }\n",
              "</style>\n",
              "<table border=\"1\" class=\"dataframe\">\n",
              "  <thead>\n",
              "    <tr style=\"text-align: right;\">\n",
              "      <th></th>\n",
              "      <th>low</th>\n",
              "      <th>medium</th>\n",
              "    </tr>\n",
              "  </thead>\n",
              "  <tbody>\n",
              "    <tr>\n",
              "      <th>0</th>\n",
              "      <td>1</td>\n",
              "      <td>0</td>\n",
              "    </tr>\n",
              "    <tr>\n",
              "      <th>1</th>\n",
              "      <td>0</td>\n",
              "      <td>1</td>\n",
              "    </tr>\n",
              "    <tr>\n",
              "      <th>2</th>\n",
              "      <td>0</td>\n",
              "      <td>1</td>\n",
              "    </tr>\n",
              "    <tr>\n",
              "      <th>3</th>\n",
              "      <td>1</td>\n",
              "      <td>0</td>\n",
              "    </tr>\n",
              "    <tr>\n",
              "      <th>4</th>\n",
              "      <td>1</td>\n",
              "      <td>0</td>\n",
              "    </tr>\n",
              "    <tr>\n",
              "      <th>...</th>\n",
              "      <td>...</td>\n",
              "      <td>...</td>\n",
              "    </tr>\n",
              "    <tr>\n",
              "      <th>14994</th>\n",
              "      <td>1</td>\n",
              "      <td>0</td>\n",
              "    </tr>\n",
              "    <tr>\n",
              "      <th>14995</th>\n",
              "      <td>1</td>\n",
              "      <td>0</td>\n",
              "    </tr>\n",
              "    <tr>\n",
              "      <th>14996</th>\n",
              "      <td>1</td>\n",
              "      <td>0</td>\n",
              "    </tr>\n",
              "    <tr>\n",
              "      <th>14997</th>\n",
              "      <td>1</td>\n",
              "      <td>0</td>\n",
              "    </tr>\n",
              "    <tr>\n",
              "      <th>14998</th>\n",
              "      <td>1</td>\n",
              "      <td>0</td>\n",
              "    </tr>\n",
              "  </tbody>\n",
              "</table>\n",
              "<p>14999 rows × 2 columns</p>\n",
              "</div>"
            ],
            "text/plain": [
              "       low  medium\n",
              "0        1       0\n",
              "1        0       1\n",
              "2        0       1\n",
              "3        1       0\n",
              "4        1       0\n",
              "...    ...     ...\n",
              "14994    1       0\n",
              "14995    1       0\n",
              "14996    1       0\n",
              "14997    1       0\n",
              "14998    1       0\n",
              "\n",
              "[14999 rows x 2 columns]"
            ]
          },
          "metadata": {
            "tags": []
          },
          "execution_count": 35
        }
      ]
    },
    {
      "cell_type": "code",
      "metadata": {
        "colab": {
          "base_uri": "https://localhost:8080/",
          "height": 419
        },
        "id": "PyTO-U-oaIl4",
        "outputId": "96cf6033-9f72-43e2-b960-e7c7e2000f13"
      },
      "source": [
        "dep=pd.get_dummies(data['Departments '],drop_first=True)\n",
        "dep"
      ],
      "execution_count": 36,
      "outputs": [
        {
          "output_type": "execute_result",
          "data": {
            "text/html": [
              "<div>\n",
              "<style scoped>\n",
              "    .dataframe tbody tr th:only-of-type {\n",
              "        vertical-align: middle;\n",
              "    }\n",
              "\n",
              "    .dataframe tbody tr th {\n",
              "        vertical-align: top;\n",
              "    }\n",
              "\n",
              "    .dataframe thead th {\n",
              "        text-align: right;\n",
              "    }\n",
              "</style>\n",
              "<table border=\"1\" class=\"dataframe\">\n",
              "  <thead>\n",
              "    <tr style=\"text-align: right;\">\n",
              "      <th></th>\n",
              "      <th>RandD</th>\n",
              "      <th>accounting</th>\n",
              "      <th>hr</th>\n",
              "      <th>management</th>\n",
              "      <th>marketing</th>\n",
              "      <th>product_mng</th>\n",
              "      <th>sales</th>\n",
              "      <th>support</th>\n",
              "      <th>technical</th>\n",
              "    </tr>\n",
              "  </thead>\n",
              "  <tbody>\n",
              "    <tr>\n",
              "      <th>0</th>\n",
              "      <td>0</td>\n",
              "      <td>0</td>\n",
              "      <td>0</td>\n",
              "      <td>0</td>\n",
              "      <td>0</td>\n",
              "      <td>0</td>\n",
              "      <td>1</td>\n",
              "      <td>0</td>\n",
              "      <td>0</td>\n",
              "    </tr>\n",
              "    <tr>\n",
              "      <th>1</th>\n",
              "      <td>0</td>\n",
              "      <td>0</td>\n",
              "      <td>0</td>\n",
              "      <td>0</td>\n",
              "      <td>0</td>\n",
              "      <td>0</td>\n",
              "      <td>1</td>\n",
              "      <td>0</td>\n",
              "      <td>0</td>\n",
              "    </tr>\n",
              "    <tr>\n",
              "      <th>2</th>\n",
              "      <td>0</td>\n",
              "      <td>0</td>\n",
              "      <td>0</td>\n",
              "      <td>0</td>\n",
              "      <td>0</td>\n",
              "      <td>0</td>\n",
              "      <td>1</td>\n",
              "      <td>0</td>\n",
              "      <td>0</td>\n",
              "    </tr>\n",
              "    <tr>\n",
              "      <th>3</th>\n",
              "      <td>0</td>\n",
              "      <td>0</td>\n",
              "      <td>0</td>\n",
              "      <td>0</td>\n",
              "      <td>0</td>\n",
              "      <td>0</td>\n",
              "      <td>1</td>\n",
              "      <td>0</td>\n",
              "      <td>0</td>\n",
              "    </tr>\n",
              "    <tr>\n",
              "      <th>4</th>\n",
              "      <td>0</td>\n",
              "      <td>0</td>\n",
              "      <td>0</td>\n",
              "      <td>0</td>\n",
              "      <td>0</td>\n",
              "      <td>0</td>\n",
              "      <td>1</td>\n",
              "      <td>0</td>\n",
              "      <td>0</td>\n",
              "    </tr>\n",
              "    <tr>\n",
              "      <th>...</th>\n",
              "      <td>...</td>\n",
              "      <td>...</td>\n",
              "      <td>...</td>\n",
              "      <td>...</td>\n",
              "      <td>...</td>\n",
              "      <td>...</td>\n",
              "      <td>...</td>\n",
              "      <td>...</td>\n",
              "      <td>...</td>\n",
              "    </tr>\n",
              "    <tr>\n",
              "      <th>14994</th>\n",
              "      <td>0</td>\n",
              "      <td>0</td>\n",
              "      <td>0</td>\n",
              "      <td>0</td>\n",
              "      <td>0</td>\n",
              "      <td>0</td>\n",
              "      <td>0</td>\n",
              "      <td>1</td>\n",
              "      <td>0</td>\n",
              "    </tr>\n",
              "    <tr>\n",
              "      <th>14995</th>\n",
              "      <td>0</td>\n",
              "      <td>0</td>\n",
              "      <td>0</td>\n",
              "      <td>0</td>\n",
              "      <td>0</td>\n",
              "      <td>0</td>\n",
              "      <td>0</td>\n",
              "      <td>1</td>\n",
              "      <td>0</td>\n",
              "    </tr>\n",
              "    <tr>\n",
              "      <th>14996</th>\n",
              "      <td>0</td>\n",
              "      <td>0</td>\n",
              "      <td>0</td>\n",
              "      <td>0</td>\n",
              "      <td>0</td>\n",
              "      <td>0</td>\n",
              "      <td>0</td>\n",
              "      <td>1</td>\n",
              "      <td>0</td>\n",
              "    </tr>\n",
              "    <tr>\n",
              "      <th>14997</th>\n",
              "      <td>0</td>\n",
              "      <td>0</td>\n",
              "      <td>0</td>\n",
              "      <td>0</td>\n",
              "      <td>0</td>\n",
              "      <td>0</td>\n",
              "      <td>0</td>\n",
              "      <td>1</td>\n",
              "      <td>0</td>\n",
              "    </tr>\n",
              "    <tr>\n",
              "      <th>14998</th>\n",
              "      <td>0</td>\n",
              "      <td>0</td>\n",
              "      <td>0</td>\n",
              "      <td>0</td>\n",
              "      <td>0</td>\n",
              "      <td>0</td>\n",
              "      <td>0</td>\n",
              "      <td>1</td>\n",
              "      <td>0</td>\n",
              "    </tr>\n",
              "  </tbody>\n",
              "</table>\n",
              "<p>14999 rows × 9 columns</p>\n",
              "</div>"
            ],
            "text/plain": [
              "       RandD  accounting  hr  ...  sales  support  technical\n",
              "0          0           0   0  ...      1        0          0\n",
              "1          0           0   0  ...      1        0          0\n",
              "2          0           0   0  ...      1        0          0\n",
              "3          0           0   0  ...      1        0          0\n",
              "4          0           0   0  ...      1        0          0\n",
              "...      ...         ...  ..  ...    ...      ...        ...\n",
              "14994      0           0   0  ...      0        1          0\n",
              "14995      0           0   0  ...      0        1          0\n",
              "14996      0           0   0  ...      0        1          0\n",
              "14997      0           0   0  ...      0        1          0\n",
              "14998      0           0   0  ...      0        1          0\n",
              "\n",
              "[14999 rows x 9 columns]"
            ]
          },
          "metadata": {
            "tags": []
          },
          "execution_count": 36
        }
      ]
    },
    {
      "cell_type": "code",
      "metadata": {
        "colab": {
          "base_uri": "https://localhost:8080/",
          "height": 204
        },
        "id": "6lW5vtEEaIwL",
        "outputId": "a4d54313-2278-4455-a06c-1455f958506d"
      },
      "source": [
        "data.drop(['Departments ','salary'],axis=1,inplace=True)\n",
        "data.head()"
      ],
      "execution_count": 37,
      "outputs": [
        {
          "output_type": "execute_result",
          "data": {
            "text/html": [
              "<div>\n",
              "<style scoped>\n",
              "    .dataframe tbody tr th:only-of-type {\n",
              "        vertical-align: middle;\n",
              "    }\n",
              "\n",
              "    .dataframe tbody tr th {\n",
              "        vertical-align: top;\n",
              "    }\n",
              "\n",
              "    .dataframe thead th {\n",
              "        text-align: right;\n",
              "    }\n",
              "</style>\n",
              "<table border=\"1\" class=\"dataframe\">\n",
              "  <thead>\n",
              "    <tr style=\"text-align: right;\">\n",
              "      <th></th>\n",
              "      <th>satisfaction_level</th>\n",
              "      <th>last_evaluation</th>\n",
              "      <th>number_project</th>\n",
              "      <th>average_montly_hours</th>\n",
              "      <th>time_spend_company</th>\n",
              "      <th>Work_accident</th>\n",
              "      <th>left</th>\n",
              "      <th>promotion_last_5years</th>\n",
              "    </tr>\n",
              "  </thead>\n",
              "  <tbody>\n",
              "    <tr>\n",
              "      <th>0</th>\n",
              "      <td>0.38</td>\n",
              "      <td>0.53</td>\n",
              "      <td>2</td>\n",
              "      <td>157</td>\n",
              "      <td>3</td>\n",
              "      <td>0</td>\n",
              "      <td>1</td>\n",
              "      <td>0</td>\n",
              "    </tr>\n",
              "    <tr>\n",
              "      <th>1</th>\n",
              "      <td>0.80</td>\n",
              "      <td>0.86</td>\n",
              "      <td>5</td>\n",
              "      <td>262</td>\n",
              "      <td>6</td>\n",
              "      <td>0</td>\n",
              "      <td>1</td>\n",
              "      <td>0</td>\n",
              "    </tr>\n",
              "    <tr>\n",
              "      <th>2</th>\n",
              "      <td>0.11</td>\n",
              "      <td>0.88</td>\n",
              "      <td>7</td>\n",
              "      <td>272</td>\n",
              "      <td>4</td>\n",
              "      <td>0</td>\n",
              "      <td>1</td>\n",
              "      <td>0</td>\n",
              "    </tr>\n",
              "    <tr>\n",
              "      <th>3</th>\n",
              "      <td>0.72</td>\n",
              "      <td>0.87</td>\n",
              "      <td>5</td>\n",
              "      <td>223</td>\n",
              "      <td>5</td>\n",
              "      <td>0</td>\n",
              "      <td>1</td>\n",
              "      <td>0</td>\n",
              "    </tr>\n",
              "    <tr>\n",
              "      <th>4</th>\n",
              "      <td>0.37</td>\n",
              "      <td>0.52</td>\n",
              "      <td>2</td>\n",
              "      <td>159</td>\n",
              "      <td>3</td>\n",
              "      <td>0</td>\n",
              "      <td>1</td>\n",
              "      <td>0</td>\n",
              "    </tr>\n",
              "  </tbody>\n",
              "</table>\n",
              "</div>"
            ],
            "text/plain": [
              "   satisfaction_level  last_evaluation  ...  left  promotion_last_5years\n",
              "0                0.38             0.53  ...     1                      0\n",
              "1                0.80             0.86  ...     1                      0\n",
              "2                0.11             0.88  ...     1                      0\n",
              "3                0.72             0.87  ...     1                      0\n",
              "4                0.37             0.52  ...     1                      0\n",
              "\n",
              "[5 rows x 8 columns]"
            ]
          },
          "metadata": {
            "tags": []
          },
          "execution_count": 37
        }
      ]
    },
    {
      "cell_type": "markdown",
      "metadata": {
        "id": "n2aSn1gubeTO"
      },
      "source": [
        "FEATURE SCALING"
      ]
    },
    {
      "cell_type": "code",
      "metadata": {
        "id": "rk2zU8DtaI2H"
      },
      "source": [
        "from sklearn.preprocessing import StandardScaler"
      ],
      "execution_count": 38,
      "outputs": []
    },
    {
      "cell_type": "code",
      "metadata": {
        "colab": {
          "base_uri": "https://localhost:8080/"
        },
        "id": "SbtJhUccaI8M",
        "outputId": "ab5add00-0128-4a4e-9ccf-586c3fabe28b"
      },
      "source": [
        "scaler=StandardScaler()\n",
        "scaler.fit(data)"
      ],
      "execution_count": 157,
      "outputs": [
        {
          "output_type": "execute_result",
          "data": {
            "text/plain": [
              "StandardScaler(copy=True, with_mean=True, with_std=True)"
            ]
          },
          "metadata": {
            "tags": []
          },
          "execution_count": 157
        }
      ]
    },
    {
      "cell_type": "code",
      "metadata": {
        "colab": {
          "base_uri": "https://localhost:8080/",
          "height": 204
        },
        "id": "0uwJBGVKaI-8",
        "outputId": "e4f26119-9e3a-4042-a1d7-0b2a22b45f37"
      },
      "source": [
        "data.head()"
      ],
      "execution_count": 41,
      "outputs": [
        {
          "output_type": "execute_result",
          "data": {
            "text/html": [
              "<div>\n",
              "<style scoped>\n",
              "    .dataframe tbody tr th:only-of-type {\n",
              "        vertical-align: middle;\n",
              "    }\n",
              "\n",
              "    .dataframe tbody tr th {\n",
              "        vertical-align: top;\n",
              "    }\n",
              "\n",
              "    .dataframe thead th {\n",
              "        text-align: right;\n",
              "    }\n",
              "</style>\n",
              "<table border=\"1\" class=\"dataframe\">\n",
              "  <thead>\n",
              "    <tr style=\"text-align: right;\">\n",
              "      <th></th>\n",
              "      <th>satisfaction_level</th>\n",
              "      <th>last_evaluation</th>\n",
              "      <th>number_project</th>\n",
              "      <th>average_montly_hours</th>\n",
              "      <th>time_spend_company</th>\n",
              "      <th>Work_accident</th>\n",
              "      <th>left</th>\n",
              "      <th>promotion_last_5years</th>\n",
              "    </tr>\n",
              "  </thead>\n",
              "  <tbody>\n",
              "    <tr>\n",
              "      <th>0</th>\n",
              "      <td>0.38</td>\n",
              "      <td>0.53</td>\n",
              "      <td>2</td>\n",
              "      <td>157</td>\n",
              "      <td>3</td>\n",
              "      <td>0</td>\n",
              "      <td>1</td>\n",
              "      <td>0</td>\n",
              "    </tr>\n",
              "    <tr>\n",
              "      <th>1</th>\n",
              "      <td>0.80</td>\n",
              "      <td>0.86</td>\n",
              "      <td>5</td>\n",
              "      <td>262</td>\n",
              "      <td>6</td>\n",
              "      <td>0</td>\n",
              "      <td>1</td>\n",
              "      <td>0</td>\n",
              "    </tr>\n",
              "    <tr>\n",
              "      <th>2</th>\n",
              "      <td>0.11</td>\n",
              "      <td>0.88</td>\n",
              "      <td>7</td>\n",
              "      <td>272</td>\n",
              "      <td>4</td>\n",
              "      <td>0</td>\n",
              "      <td>1</td>\n",
              "      <td>0</td>\n",
              "    </tr>\n",
              "    <tr>\n",
              "      <th>3</th>\n",
              "      <td>0.72</td>\n",
              "      <td>0.87</td>\n",
              "      <td>5</td>\n",
              "      <td>223</td>\n",
              "      <td>5</td>\n",
              "      <td>0</td>\n",
              "      <td>1</td>\n",
              "      <td>0</td>\n",
              "    </tr>\n",
              "    <tr>\n",
              "      <th>4</th>\n",
              "      <td>0.37</td>\n",
              "      <td>0.52</td>\n",
              "      <td>2</td>\n",
              "      <td>159</td>\n",
              "      <td>3</td>\n",
              "      <td>0</td>\n",
              "      <td>1</td>\n",
              "      <td>0</td>\n",
              "    </tr>\n",
              "  </tbody>\n",
              "</table>\n",
              "</div>"
            ],
            "text/plain": [
              "   satisfaction_level  last_evaluation  ...  left  promotion_last_5years\n",
              "0                0.38             0.53  ...     1                      0\n",
              "1                0.80             0.86  ...     1                      0\n",
              "2                0.11             0.88  ...     1                      0\n",
              "3                0.72             0.87  ...     1                      0\n",
              "4                0.37             0.52  ...     1                      0\n",
              "\n",
              "[5 rows x 8 columns]"
            ]
          },
          "metadata": {
            "tags": []
          },
          "execution_count": 41
        }
      ]
    },
    {
      "cell_type": "markdown",
      "metadata": {
        "id": "ipqL5Dm1b-8F"
      },
      "source": [
        "SPLITTING THE DATA"
      ]
    },
    {
      "cell_type": "code",
      "metadata": {
        "colab": {
          "base_uri": "https://localhost:8080/"
        },
        "id": "lUDv5-s2aJCY",
        "outputId": "a2e557db-7b5e-4603-bf6b-d5ead989fb50"
      },
      "source": [
        "x=data.drop('left',axis=1).values\n",
        "x"
      ],
      "execution_count": 44,
      "outputs": [
        {
          "output_type": "execute_result",
          "data": {
            "text/plain": [
              "array([[0.38, 0.53, 2.  , ..., 3.  , 0.  , 0.  ],\n",
              "       [0.8 , 0.86, 5.  , ..., 6.  , 0.  , 0.  ],\n",
              "       [0.11, 0.88, 7.  , ..., 4.  , 0.  , 0.  ],\n",
              "       ...,\n",
              "       [0.37, 0.53, 2.  , ..., 3.  , 0.  , 0.  ],\n",
              "       [0.11, 0.96, 6.  , ..., 4.  , 0.  , 0.  ],\n",
              "       [0.37, 0.52, 2.  , ..., 3.  , 0.  , 0.  ]])"
            ]
          },
          "metadata": {
            "tags": []
          },
          "execution_count": 44
        }
      ]
    },
    {
      "cell_type": "code",
      "metadata": {
        "colab": {
          "base_uri": "https://localhost:8080/"
        },
        "id": "o5ENox5uaJEj",
        "outputId": "1a91f6da-a416-4c65-e0e5-124b91ec4b45"
      },
      "source": [
        "y=data['left'].values\n",
        "y"
      ],
      "execution_count": 46,
      "outputs": [
        {
          "output_type": "execute_result",
          "data": {
            "text/plain": [
              "array([1, 1, 1, ..., 1, 1, 1])"
            ]
          },
          "metadata": {
            "tags": []
          },
          "execution_count": 46
        }
      ]
    },
    {
      "cell_type": "code",
      "metadata": {
        "id": "E2QMm0vtaJIj"
      },
      "source": [
        "from sklearn.model_selection import train_test_split"
      ],
      "execution_count": 47,
      "outputs": []
    },
    {
      "cell_type": "code",
      "metadata": {
        "id": "0rQbnA8caJKj"
      },
      "source": [
        "x_train,x_test,y_train,y_test=train_test_split(x,y,test_size=0.3,random_state=1)"
      ],
      "execution_count": 48,
      "outputs": []
    },
    {
      "cell_type": "markdown",
      "metadata": {
        "id": "6uJ9YgESci7j"
      },
      "source": [
        "Logistic Regression"
      ]
    },
    {
      "cell_type": "code",
      "metadata": {
        "id": "mQ-Lr_oAaJP6"
      },
      "source": [
        "from sklearn.linear_model import LogisticRegression"
      ],
      "execution_count": 49,
      "outputs": []
    },
    {
      "cell_type": "code",
      "metadata": {
        "colab": {
          "base_uri": "https://localhost:8080/"
        },
        "id": "7AWCr4TDcqn4",
        "outputId": "b3759f9c-40d7-4e9e-e11b-cb204b2b9986"
      },
      "source": [
        "reg=LogisticRegression()\n",
        "reg.fit(x_train,y_train)"
      ],
      "execution_count": 50,
      "outputs": [
        {
          "output_type": "execute_result",
          "data": {
            "text/plain": [
              "LogisticRegression(C=1.0, class_weight=None, dual=False, fit_intercept=True,\n",
              "                   intercept_scaling=1, l1_ratio=None, max_iter=100,\n",
              "                   multi_class='auto', n_jobs=None, penalty='l2',\n",
              "                   random_state=None, solver='lbfgs', tol=0.0001, verbose=0,\n",
              "                   warm_start=False)"
            ]
          },
          "metadata": {
            "tags": []
          },
          "execution_count": 50
        }
      ]
    },
    {
      "cell_type": "code",
      "metadata": {
        "colab": {
          "base_uri": "https://localhost:8080/"
        },
        "id": "-zUlD6xccqwe",
        "outputId": "fa2dc5ce-9a81-4c80-d69a-ca099e8509b7"
      },
      "source": [
        "y_pred=reg.predict(x_test)\n",
        "y_pred"
      ],
      "execution_count": 51,
      "outputs": [
        {
          "output_type": "execute_result",
          "data": {
            "text/plain": [
              "array([0, 0, 0, ..., 0, 0, 0])"
            ]
          },
          "metadata": {
            "tags": []
          },
          "execution_count": 51
        }
      ]
    },
    {
      "cell_type": "code",
      "metadata": {
        "colab": {
          "base_uri": "https://localhost:8080/"
        },
        "id": "3IBoVDRtcqzo",
        "outputId": "6a9a3a28-629a-42a4-f80c-e52dab8c6d8b"
      },
      "source": [
        "y_test"
      ],
      "execution_count": 52,
      "outputs": [
        {
          "output_type": "execute_result",
          "data": {
            "text/plain": [
              "array([0, 0, 0, ..., 0, 0, 1])"
            ]
          },
          "metadata": {
            "tags": []
          },
          "execution_count": 52
        }
      ]
    },
    {
      "cell_type": "code",
      "metadata": {
        "id": "RyP72uMGcq2F"
      },
      "source": [
        "model=LogisticRegression(solver='liblinear',random_state=0).fit(x,y)"
      ],
      "execution_count": 53,
      "outputs": []
    },
    {
      "cell_type": "code",
      "metadata": {
        "colab": {
          "base_uri": "https://localhost:8080/"
        },
        "id": "6L9IDfwNcq4t",
        "outputId": "c7b96bd1-571f-4971-ca68-58ff1ccb9e6e"
      },
      "source": [
        "model.predict(x)"
      ],
      "execution_count": 54,
      "outputs": [
        {
          "output_type": "execute_result",
          "data": {
            "text/plain": [
              "array([0, 0, 1, ..., 0, 1, 0])"
            ]
          },
          "metadata": {
            "tags": []
          },
          "execution_count": 54
        }
      ]
    },
    {
      "cell_type": "code",
      "metadata": {
        "id": "Sp9neJpacq7c"
      },
      "source": [
        "from sklearn.metrics import confusion_matrix,accuracy_score\n",
        "cm=confusion_matrix(y_test,y_pred)"
      ],
      "execution_count": 55,
      "outputs": []
    },
    {
      "cell_type": "code",
      "metadata": {
        "colab": {
          "base_uri": "https://localhost:8080/"
        },
        "id": "wA1jQ-T_cq-l",
        "outputId": "1c78a3b7-8caa-4c8a-db47-c1932c2d580c"
      },
      "source": [
        "cm"
      ],
      "execution_count": 56,
      "outputs": [
        {
          "output_type": "execute_result",
          "data": {
            "text/plain": [
              "array([[3139,  277],\n",
              "       [ 793,  291]])"
            ]
          },
          "metadata": {
            "tags": []
          },
          "execution_count": 56
        }
      ]
    },
    {
      "cell_type": "code",
      "metadata": {
        "colab": {
          "base_uri": "https://localhost:8080/"
        },
        "id": "6rbqoYfGcrvT",
        "outputId": "c39d5b2a-232c-4b52-a9aa-39aee44c88f7"
      },
      "source": [
        "accuracy_score(y_test,y_pred)"
      ],
      "execution_count": 57,
      "outputs": [
        {
          "output_type": "execute_result",
          "data": {
            "text/plain": [
              "0.7622222222222222"
            ]
          },
          "metadata": {
            "tags": []
          },
          "execution_count": 57
        }
      ]
    },
    {
      "cell_type": "markdown",
      "metadata": {
        "id": "GHz4jnsHdjtP"
      },
      "source": [
        "Decision Tree"
      ]
    },
    {
      "cell_type": "code",
      "metadata": {
        "colab": {
          "base_uri": "https://localhost:8080/"
        },
        "id": "455Ksb8Ncsuq",
        "outputId": "64deb8fd-5f57-463c-f900-f5888724552b"
      },
      "source": [
        "from sklearn.tree import DecisionTreeClassifier,plot_tree\n",
        "dc=DecisionTreeClassifier(random_state=0)\n",
        "dc.fit(x_train,y_train)"
      ],
      "execution_count": 58,
      "outputs": [
        {
          "output_type": "execute_result",
          "data": {
            "text/plain": [
              "DecisionTreeClassifier(ccp_alpha=0.0, class_weight=None, criterion='gini',\n",
              "                       max_depth=None, max_features=None, max_leaf_nodes=None,\n",
              "                       min_impurity_decrease=0.0, min_impurity_split=None,\n",
              "                       min_samples_leaf=1, min_samples_split=2,\n",
              "                       min_weight_fraction_leaf=0.0, presort='deprecated',\n",
              "                       random_state=0, splitter='best')"
            ]
          },
          "metadata": {
            "tags": []
          },
          "execution_count": 58
        }
      ]
    },
    {
      "cell_type": "code",
      "metadata": {
        "colab": {
          "base_uri": "https://localhost:8080/"
        },
        "id": "u1c6XiM4dwG6",
        "outputId": "45dd95b1-19f1-4be1-f46e-a49c47052f90"
      },
      "source": [
        "y_pred2=dc.predict(x_test)\n",
        "y_pred2"
      ],
      "execution_count": 59,
      "outputs": [
        {
          "output_type": "execute_result",
          "data": {
            "text/plain": [
              "array([0, 0, 0, ..., 0, 0, 1])"
            ]
          },
          "metadata": {
            "tags": []
          },
          "execution_count": 59
        }
      ]
    },
    {
      "cell_type": "code",
      "metadata": {
        "colab": {
          "base_uri": "https://localhost:8080/"
        },
        "id": "oeaxU3PGdwL6",
        "outputId": "b90de4a1-6d88-4edb-eea1-17665af4363b"
      },
      "source": [
        "y_test"
      ],
      "execution_count": 60,
      "outputs": [
        {
          "output_type": "execute_result",
          "data": {
            "text/plain": [
              "array([0, 0, 0, ..., 0, 0, 1])"
            ]
          },
          "metadata": {
            "tags": []
          },
          "execution_count": 60
        }
      ]
    },
    {
      "cell_type": "code",
      "metadata": {
        "colab": {
          "base_uri": "https://localhost:8080/"
        },
        "id": "UqKvzqNGdwRK",
        "outputId": "7b3691d5-e8a0-4ee2-bd5c-b68d1884be4f"
      },
      "source": [
        "cm_dt=confusion_matrix(y_test,y_pred2)\n",
        "cm_dt"
      ],
      "execution_count": 61,
      "outputs": [
        {
          "output_type": "execute_result",
          "data": {
            "text/plain": [
              "array([[3354,   62],\n",
              "       [  42, 1042]])"
            ]
          },
          "metadata": {
            "tags": []
          },
          "execution_count": 61
        }
      ]
    },
    {
      "cell_type": "code",
      "metadata": {
        "colab": {
          "base_uri": "https://localhost:8080/"
        },
        "id": "VB4AYE0tdwVL",
        "outputId": "5fa20de3-66f4-4208-a7ee-a6f4253e9e78"
      },
      "source": [
        "accuracy_score(y_test,y_pred2)"
      ],
      "execution_count": 62,
      "outputs": [
        {
          "output_type": "execute_result",
          "data": {
            "text/plain": [
              "0.9768888888888889"
            ]
          },
          "metadata": {
            "tags": []
          },
          "execution_count": 62
        }
      ]
    },
    {
      "cell_type": "code",
      "metadata": {
        "colab": {
          "base_uri": "https://localhost:8080/",
          "height": 51
        },
        "id": "21awCDjadwaA",
        "outputId": "e5b25ca0-d399-4fba-b2c0-0be508936145"
      },
      "source": [
        "df=dc.fit(x_test,y_pred2)\n",
        "plt.figure(figsize=(15,7))"
      ],
      "execution_count": 63,
      "outputs": [
        {
          "output_type": "execute_result",
          "data": {
            "text/plain": [
              "<Figure size 1080x504 with 0 Axes>"
            ]
          },
          "metadata": {
            "tags": []
          },
          "execution_count": 63
        },
        {
          "output_type": "display_data",
          "data": {
            "text/plain": [
              "<Figure size 1080x504 with 0 Axes>"
            ]
          },
          "metadata": {
            "tags": []
          }
        }
      ]
    },
    {
      "cell_type": "code",
      "metadata": {
        "colab": {
          "base_uri": "https://localhost:8080/",
          "height": 1000
        },
        "id": "Mke-DX5RdweY",
        "outputId": "06602416-c9ea-41af-dddd-dde557a64583"
      },
      "source": [
        "plot_tree(df,filled=True)"
      ],
      "execution_count": 64,
      "outputs": [
        {
          "output_type": "execute_result",
          "data": {
            "text/plain": [
              "[Text(140.06188442363813, 212.26285714285714, 'X[0] <= 0.465\\ngini = 0.37\\nsamples = 4500\\nvalue = [3396, 1104]'),\n",
              " Text(43.64124513618677, 201.90857142857143, 'X[2] <= 2.5\\ngini = 0.474\\nsamples = 1272\\nvalue = [491, 781]'),\n",
              " Text(21.494941634241247, 191.5542857142857, 'X[1] <= 0.575\\ngini = 0.211\\nsamples = 501\\nvalue = [60, 441]'),\n",
              " Text(16.284046692607003, 181.2, 'X[1] <= 0.44\\ngini = 0.098\\nsamples = 464\\nvalue = [24, 440]'),\n",
              " Text(13.678599221789884, 170.84571428571428, 'gini = 0.0\\nsamples = 14\\nvalue = [14, 0]'),\n",
              " Text(18.889494163424125, 170.84571428571428, 'X[0] <= 0.34\\ngini = 0.043\\nsamples = 450\\nvalue = [10, 440]'),\n",
              " Text(13.678599221789884, 160.49142857142857, 'X[3] <= 142.5\\ngini = 0.245\\nsamples = 7\\nvalue = [6, 1]'),\n",
              " Text(11.073151750972762, 150.13714285714286, 'X[4] <= 3.5\\ngini = 0.5\\nsamples = 2\\nvalue = [1, 1]'),\n",
              " Text(8.467704280155642, 139.78285714285715, 'gini = 0.0\\nsamples = 1\\nvalue = [1, 0]'),\n",
              " Text(13.678599221789884, 139.78285714285715, 'gini = 0.0\\nsamples = 1\\nvalue = [0, 1]'),\n",
              " Text(16.284046692607003, 150.13714285714286, 'gini = 0.0\\nsamples = 5\\nvalue = [5, 0]'),\n",
              " Text(24.100389105058365, 160.49142857142857, 'X[3] <= 125.0\\ngini = 0.018\\nsamples = 443\\nvalue = [4, 439]'),\n",
              " Text(21.494941634241247, 150.13714285714286, 'gini = 0.0\\nsamples = 2\\nvalue = [2, 0]'),\n",
              " Text(26.705836575875487, 150.13714285714286, 'X[3] <= 166.0\\ngini = 0.009\\nsamples = 441\\nvalue = [2, 439]'),\n",
              " Text(24.100389105058365, 139.78285714285715, 'gini = 0.0\\nsamples = 438\\nvalue = [0, 438]'),\n",
              " Text(29.31128404669261, 139.78285714285715, 'X[1] <= 0.485\\ngini = 0.444\\nsamples = 3\\nvalue = [2, 1]'),\n",
              " Text(26.705836575875487, 129.42857142857144, 'gini = 0.0\\nsamples = 1\\nvalue = [0, 1]'),\n",
              " Text(31.916731517509728, 129.42857142857144, 'gini = 0.0\\nsamples = 2\\nvalue = [2, 0]'),\n",
              " Text(26.705836575875487, 181.2, 'X[3] <= 280.0\\ngini = 0.053\\nsamples = 37\\nvalue = [36, 1]'),\n",
              " Text(24.100389105058365, 170.84571428571428, 'gini = 0.0\\nsamples = 36\\nvalue = [36, 0]'),\n",
              " Text(29.31128404669261, 170.84571428571428, 'gini = 0.0\\nsamples = 1\\nvalue = [0, 1]'),\n",
              " Text(65.7875486381323, 191.5542857142857, 'X[0] <= 0.115\\ngini = 0.493\\nsamples = 771\\nvalue = [431, 340]'),\n",
              " Text(63.182101167315174, 181.2, 'gini = 0.0\\nsamples = 285\\nvalue = [0, 285]'),\n",
              " Text(68.39299610894942, 181.2, 'X[2] <= 6.5\\ngini = 0.201\\nsamples = 486\\nvalue = [431, 55]'),\n",
              " Text(65.7875486381323, 170.84571428571428, 'X[1] <= 0.995\\ngini = 0.18\\nsamples = 479\\nvalue = [431, 48]'),\n",
              " Text(55.36575875486381, 160.49142857142857, 'X[3] <= 290.5\\ngini = 0.16\\nsamples = 469\\nvalue = [428, 41]'),\n",
              " Text(52.76031128404669, 150.13714285714286, 'X[1] <= 0.885\\ngini = 0.15\\nsamples = 466\\nvalue = [428, 38]'),\n",
              " Text(39.733073929961094, 139.78285714285715, 'X[1] <= 0.455\\ngini = 0.171\\nsamples = 392\\nvalue = [355, 37]'),\n",
              " Text(37.12762645914397, 129.42857142857144, 'gini = 0.0\\nsamples = 52\\nvalue = [52, 0]'),\n",
              " Text(42.33852140077821, 129.42857142857144, 'X[1] <= 0.465\\ngini = 0.194\\nsamples = 340\\nvalue = [303, 37]'),\n",
              " Text(29.31128404669261, 119.07428571428571, 'X[3] <= 187.5\\ngini = 0.459\\nsamples = 14\\nvalue = [5, 9]'),\n",
              " Text(26.705836575875487, 108.72, 'gini = 0.0\\nsamples = 5\\nvalue = [5, 0]'),\n",
              " Text(31.916731517509728, 108.72, 'gini = 0.0\\nsamples = 9\\nvalue = [0, 9]'),\n",
              " Text(55.36575875486381, 119.07428571428571, 'X[0] <= 0.305\\ngini = 0.157\\nsamples = 326\\nvalue = [298, 28]'),\n",
              " Text(37.12762645914397, 108.72, 'X[0] <= 0.175\\ngini = 0.091\\nsamples = 210\\nvalue = [200, 10]'),\n",
              " Text(27.35719844357977, 98.36571428571429, 'X[0] <= 0.165\\ngini = 0.182\\nsamples = 79\\nvalue = [71, 8]'),\n",
              " Text(20.843579766536966, 88.01142857142858, 'X[3] <= 276.5\\ngini = 0.092\\nsamples = 62\\nvalue = [59, 3]'),\n",
              " Text(15.632684824902725, 77.65714285714284, 'X[1] <= 0.625\\ngini = 0.065\\nsamples = 59\\nvalue = [57, 2]'),\n",
              " Text(13.027237354085603, 67.30285714285714, 'X[1] <= 0.615\\ngini = 0.153\\nsamples = 24\\nvalue = [22, 2]'),\n",
              " Text(7.8163424124513625, 56.94857142857143, 'X[4] <= 3.5\\ngini = 0.087\\nsamples = 22\\nvalue = [21, 1]'),\n",
              " Text(5.210894941634241, 46.59428571428572, 'X[0] <= 0.145\\ngini = 0.444\\nsamples = 3\\nvalue = [2, 1]'),\n",
              " Text(2.6054474708171207, 36.24000000000001, 'gini = 0.0\\nsamples = 1\\nvalue = [0, 1]'),\n",
              " Text(7.8163424124513625, 36.24000000000001, 'gini = 0.0\\nsamples = 2\\nvalue = [2, 0]'),\n",
              " Text(10.421789883268483, 46.59428571428572, 'gini = 0.0\\nsamples = 19\\nvalue = [19, 0]'),\n",
              " Text(18.238132295719844, 56.94857142857143, 'X[3] <= 207.5\\ngini = 0.5\\nsamples = 2\\nvalue = [1, 1]'),\n",
              " Text(15.632684824902725, 46.59428571428572, 'gini = 0.0\\nsamples = 1\\nvalue = [0, 1]'),\n",
              " Text(20.843579766536966, 46.59428571428572, 'gini = 0.0\\nsamples = 1\\nvalue = [1, 0]'),\n",
              " Text(18.238132295719844, 67.30285714285714, 'gini = 0.0\\nsamples = 35\\nvalue = [35, 0]'),\n",
              " Text(26.054474708171206, 77.65714285714284, 'X[4] <= 4.5\\ngini = 0.444\\nsamples = 3\\nvalue = [2, 1]'),\n",
              " Text(23.449027237354088, 67.30285714285714, 'gini = 0.0\\nsamples = 2\\nvalue = [2, 0]'),\n",
              " Text(28.659922178988328, 67.30285714285714, 'gini = 0.0\\nsamples = 1\\nvalue = [0, 1]'),\n",
              " Text(33.87081712062257, 88.01142857142858, 'X[2] <= 3.5\\ngini = 0.415\\nsamples = 17\\nvalue = [12, 5]'),\n",
              " Text(31.26536964980545, 77.65714285714284, 'gini = 0.0\\nsamples = 4\\nvalue = [0, 4]'),\n",
              " Text(36.47626459143969, 77.65714285714284, 'X[1] <= 0.83\\ngini = 0.142\\nsamples = 13\\nvalue = [12, 1]'),\n",
              " Text(33.87081712062257, 67.30285714285714, 'gini = 0.0\\nsamples = 12\\nvalue = [12, 0]'),\n",
              " Text(39.08171206225681, 67.30285714285714, 'gini = 0.0\\nsamples = 1\\nvalue = [0, 1]'),\n",
              " Text(46.898054474708175, 98.36571428571429, 'X[3] <= 118.0\\ngini = 0.03\\nsamples = 131\\nvalue = [129, 2]'),\n",
              " Text(44.29260700389105, 88.01142857142858, 'X[0] <= 0.21\\ngini = 0.48\\nsamples = 5\\nvalue = [3, 2]'),\n",
              " Text(41.68715953307393, 77.65714285714284, 'gini = 0.0\\nsamples = 2\\nvalue = [0, 2]'),\n",
              " Text(46.898054474708175, 77.65714285714284, 'gini = 0.0\\nsamples = 3\\nvalue = [3, 0]'),\n",
              " Text(49.503501945525294, 88.01142857142858, 'gini = 0.0\\nsamples = 126\\nvalue = [126, 0]'),\n",
              " Text(73.60389105058366, 108.72, 'X[0] <= 0.355\\ngini = 0.262\\nsamples = 116\\nvalue = [98, 18]'),\n",
              " Text(61.22801556420234, 98.36571428571429, 'X[4] <= 2.5\\ngini = 0.426\\nsamples = 39\\nvalue = [27, 12]'),\n",
              " Text(54.71439688715954, 88.01142857142858, 'X[1] <= 0.77\\ngini = 0.245\\nsamples = 7\\nvalue = [1, 6]'),\n",
              " Text(52.10894941634241, 77.65714285714284, 'gini = 0.0\\nsamples = 6\\nvalue = [0, 6]'),\n",
              " Text(57.319844357976656, 77.65714285714284, 'gini = 0.0\\nsamples = 1\\nvalue = [1, 0]'),\n",
              " Text(67.74163424124514, 88.01142857142858, 'X[1] <= 0.865\\ngini = 0.305\\nsamples = 32\\nvalue = [26, 6]'),\n",
              " Text(62.5307392996109, 77.65714285714284, 'X[3] <= 270.5\\ngini = 0.191\\nsamples = 28\\nvalue = [25, 3]'),\n",
              " Text(59.925291828793775, 67.30285714285714, 'X[0] <= 0.315\\ngini = 0.137\\nsamples = 27\\nvalue = [25, 2]'),\n",
              " Text(57.319844357976656, 56.94857142857143, 'X[1] <= 0.56\\ngini = 0.5\\nsamples = 4\\nvalue = [2, 2]'),\n",
              " Text(54.71439688715954, 46.59428571428572, 'gini = 0.0\\nsamples = 1\\nvalue = [1, 0]'),\n",
              " Text(59.925291828793775, 46.59428571428572, 'X[5] <= 0.5\\ngini = 0.444\\nsamples = 3\\nvalue = [1, 2]'),\n",
              " Text(57.319844357976656, 36.24000000000001, 'gini = 0.0\\nsamples = 2\\nvalue = [0, 2]'),\n",
              " Text(62.5307392996109, 36.24000000000001, 'gini = 0.0\\nsamples = 1\\nvalue = [1, 0]'),\n",
              " Text(62.5307392996109, 56.94857142857143, 'gini = 0.0\\nsamples = 23\\nvalue = [23, 0]'),\n",
              " Text(65.13618677042801, 67.30285714285714, 'gini = 0.0\\nsamples = 1\\nvalue = [0, 1]'),\n",
              " Text(72.95252918287937, 77.65714285714284, 'X[5] <= 0.5\\ngini = 0.375\\nsamples = 4\\nvalue = [1, 3]'),\n",
              " Text(70.34708171206226, 67.30285714285714, 'gini = 0.0\\nsamples = 3\\nvalue = [0, 3]'),\n",
              " Text(75.5579766536965, 67.30285714285714, 'gini = 0.0\\nsamples = 1\\nvalue = [1, 0]'),\n",
              " Text(85.97976653696499, 98.36571428571429, 'X[4] <= 3.5\\ngini = 0.144\\nsamples = 77\\nvalue = [71, 6]'),\n",
              " Text(83.37431906614786, 88.01142857142858, 'gini = 0.0\\nsamples = 46\\nvalue = [46, 0]'),\n",
              " Text(88.5852140077821, 88.01142857142858, 'X[3] <= 195.0\\ngini = 0.312\\nsamples = 31\\nvalue = [25, 6]'),\n",
              " Text(83.37431906614786, 77.65714285714284, 'X[2] <= 5.5\\ngini = 0.105\\nsamples = 18\\nvalue = [17, 1]'),\n",
              " Text(80.76887159533074, 67.30285714285714, 'gini = 0.0\\nsamples = 14\\nvalue = [14, 0]'),\n",
              " Text(85.97976653696499, 67.30285714285714, 'X[3] <= 161.5\\ngini = 0.375\\nsamples = 4\\nvalue = [3, 1]'),\n",
              " Text(83.37431906614786, 56.94857142857143, 'X[0] <= 0.435\\ngini = 0.5\\nsamples = 2\\nvalue = [1, 1]'),\n",
              " Text(80.76887159533074, 46.59428571428572, 'gini = 0.0\\nsamples = 1\\nvalue = [0, 1]'),\n",
              " Text(85.97976653696499, 46.59428571428572, 'gini = 0.0\\nsamples = 1\\nvalue = [1, 0]'),\n",
              " Text(88.5852140077821, 56.94857142857143, 'gini = 0.0\\nsamples = 2\\nvalue = [2, 0]'),\n",
              " Text(93.79610894941635, 77.65714285714284, 'X[0] <= 0.415\\ngini = 0.473\\nsamples = 13\\nvalue = [8, 5]'),\n",
              " Text(91.19066147859922, 67.30285714285714, 'gini = 0.0\\nsamples = 6\\nvalue = [6, 0]'),\n",
              " Text(96.40155642023346, 67.30285714285714, 'X[3] <= 237.0\\ngini = 0.408\\nsamples = 7\\nvalue = [2, 5]'),\n",
              " Text(93.79610894941635, 56.94857142857143, 'gini = 0.0\\nsamples = 3\\nvalue = [0, 3]'),\n",
              " Text(99.00700389105059, 56.94857142857143, 'X[3] <= 264.5\\ngini = 0.5\\nsamples = 4\\nvalue = [2, 2]'),\n",
              " Text(96.40155642023346, 46.59428571428572, 'gini = 0.0\\nsamples = 2\\nvalue = [2, 0]'),\n",
              " Text(101.61245136186771, 46.59428571428572, 'gini = 0.0\\nsamples = 2\\nvalue = [0, 2]'),\n",
              " Text(65.7875486381323, 139.78285714285715, 'X[3] <= 97.5\\ngini = 0.027\\nsamples = 74\\nvalue = [73, 1]'),\n",
              " Text(63.182101167315174, 129.42857142857144, 'X[2] <= 4.5\\ngini = 0.5\\nsamples = 2\\nvalue = [1, 1]'),\n",
              " Text(60.576653696498056, 119.07428571428571, 'gini = 0.0\\nsamples = 1\\nvalue = [1, 0]'),\n",
              " Text(65.7875486381323, 119.07428571428571, 'gini = 0.0\\nsamples = 1\\nvalue = [0, 1]'),\n",
              " Text(68.39299610894942, 129.42857142857144, 'gini = 0.0\\nsamples = 72\\nvalue = [72, 0]'),\n",
              " Text(57.97120622568094, 150.13714285714286, 'gini = 0.0\\nsamples = 3\\nvalue = [0, 3]'),\n",
              " Text(76.20933852140078, 160.49142857142857, 'X[2] <= 5.5\\ngini = 0.42\\nsamples = 10\\nvalue = [3, 7]'),\n",
              " Text(73.60389105058366, 150.13714285714286, 'X[3] <= 167.0\\ngini = 0.219\\nsamples = 8\\nvalue = [1, 7]'),\n",
              " Text(70.99844357976654, 139.78285714285715, 'gini = 0.0\\nsamples = 1\\nvalue = [1, 0]'),\n",
              " Text(76.20933852140078, 139.78285714285715, 'gini = 0.0\\nsamples = 7\\nvalue = [0, 7]'),\n",
              " Text(78.8147859922179, 150.13714285714286, 'gini = 0.0\\nsamples = 2\\nvalue = [2, 0]'),\n",
              " Text(70.99844357976654, 170.84571428571428, 'gini = 0.0\\nsamples = 7\\nvalue = [0, 7]'),\n",
              " Text(236.4825237110895, 201.90857142857143, 'X[4] <= 4.5\\ngini = 0.18\\nsamples = 3228\\nvalue = [2905, 323]'),\n",
              " Text(181.4806116245136, 191.5542857142857, 'X[3] <= 290.0\\ngini = 0.035\\nsamples = 2629\\nvalue = [2582, 47]'),\n",
              " Text(178.87516415369652, 181.2, 'X[2] <= 6.5\\ngini = 0.033\\nsamples = 2626\\nvalue = [2582, 44]'),\n",
              " Text(176.2697166828794, 170.84571428571428, 'X[4] <= 3.5\\ngini = 0.032\\nsamples = 2625\\nvalue = [2582, 43]'),\n",
              " Text(130.91355787937744, 160.49142857142857, 'X[2] <= 2.5\\ngini = 0.02\\nsamples = 2230\\nvalue = [2207, 23]'),\n",
              " Text(90.2136186770428, 150.13714285714286, 'X[3] <= 251.0\\ngini = 0.094\\nsamples = 122\\nvalue = [116, 6]'),\n",
              " Text(87.60817120622568, 139.78285714285715, 'gini = 0.0\\nsamples = 102\\nvalue = [102, 0]'),\n",
              " Text(92.81906614785993, 139.78285714285715, 'X[3] <= 256.5\\ngini = 0.42\\nsamples = 20\\nvalue = [14, 6]'),\n",
              " Text(87.60817120622568, 129.42857142857144, 'X[0] <= 0.755\\ngini = 0.278\\nsamples = 6\\nvalue = [1, 5]'),\n",
              " Text(85.00272373540857, 119.07428571428571, 'gini = 0.0\\nsamples = 5\\nvalue = [0, 5]'),\n",
              " Text(90.2136186770428, 119.07428571428571, 'gini = 0.0\\nsamples = 1\\nvalue = [1, 0]'),\n",
              " Text(98.02996108949417, 129.42857142857144, 'X[1] <= 0.98\\ngini = 0.133\\nsamples = 14\\nvalue = [13, 1]'),\n",
              " Text(95.42451361867704, 119.07428571428571, 'gini = 0.0\\nsamples = 12\\nvalue = [12, 0]'),\n",
              " Text(100.63540856031129, 119.07428571428571, 'X[0] <= 0.815\\ngini = 0.5\\nsamples = 2\\nvalue = [1, 1]'),\n",
              " Text(98.02996108949417, 108.72, 'gini = 0.0\\nsamples = 1\\nvalue = [0, 1]'),\n",
              " Text(103.2408560311284, 108.72, 'gini = 0.0\\nsamples = 1\\nvalue = [1, 0]'),\n",
              " Text(171.61349708171207, 150.13714285714286, 'X[1] <= 0.995\\ngini = 0.016\\nsamples = 2108\\nvalue = [2091, 17]'),\n",
              " Text(153.0293287937743, 139.78285714285715, 'X[3] <= 262.5\\ngini = 0.014\\nsamples = 2085\\nvalue = [2070, 15]'),\n",
              " Text(128.88822957198443, 129.42857142857144, 'X[0] <= 0.495\\ngini = 0.011\\nsamples = 1908\\nvalue = [1897, 11]'),\n",
              " Text(111.05719844357976, 119.07428571428571, 'X[3] <= 241.0\\ngini = 0.064\\nsamples = 60\\nvalue = [58, 2]'),\n",
              " Text(108.45175097276265, 108.72, 'gini = 0.0\\nsamples = 51\\nvalue = [51, 0]'),\n",
              " Text(113.66264591439689, 108.72, 'X[1] <= 0.86\\ngini = 0.346\\nsamples = 9\\nvalue = [7, 2]'),\n",
              " Text(111.05719844357976, 98.36571428571429, 'gini = 0.0\\nsamples = 7\\nvalue = [7, 0]'),\n",
              " Text(116.26809338521402, 98.36571428571429, 'gini = 0.0\\nsamples = 2\\nvalue = [0, 2]'),\n",
              " Text(146.7192607003891, 119.07428571428571, 'X[0] <= 0.865\\ngini = 0.01\\nsamples = 1848\\nvalue = [1839, 9]'),\n",
              " Text(144.11381322957197, 108.72, 'X[0] <= 0.815\\ngini = 0.013\\nsamples = 1395\\nvalue = [1386, 9]'),\n",
              " Text(121.47898832684825, 98.36571428571429, 'X[1] <= 0.485\\ngini = 0.008\\nsamples = 1211\\nvalue = [1206, 5]'),\n",
              " Text(110.73151750972762, 88.01142857142858, 'X[3] <= 244.5\\ngini = 0.045\\nsamples = 43\\nvalue = [42, 1]'),\n",
              " Text(108.12607003891051, 77.65714285714284, 'gini = 0.0\\nsamples = 40\\nvalue = [40, 0]'),\n",
              " Text(113.33696498054475, 77.65714285714284, 'X[0] <= 0.64\\ngini = 0.444\\nsamples = 3\\nvalue = [2, 1]'),\n",
              " Text(110.73151750972762, 67.30285714285714, 'gini = 0.0\\nsamples = 1\\nvalue = [0, 1]'),\n",
              " Text(115.94241245136188, 67.30285714285714, 'gini = 0.0\\nsamples = 2\\nvalue = [2, 0]'),\n",
              " Text(132.22645914396887, 88.01142857142858, 'X[1] <= 0.795\\ngini = 0.007\\nsamples = 1168\\nvalue = [1164, 4]'),\n",
              " Text(129.62101167315174, 77.65714285714284, 'X[1] <= 0.785\\ngini = 0.011\\nsamples = 742\\nvalue = [738, 4]'),\n",
              " Text(121.15330739299611, 67.30285714285714, 'X[0] <= 0.585\\ngini = 0.008\\nsamples = 718\\nvalue = [715, 3]'),\n",
              " Text(112.03424124513619, 56.94857142857143, 'X[0] <= 0.575\\ngini = 0.021\\nsamples = 187\\nvalue = [185, 2]'),\n",
              " Text(106.82334630350195, 46.59428571428572, 'X[1] <= 0.735\\ngini = 0.012\\nsamples = 167\\nvalue = [166, 1]'),\n",
              " Text(104.21789883268482, 36.24000000000001, 'gini = 0.0\\nsamples = 147\\nvalue = [147, 0]'),\n",
              " Text(109.42879377431908, 36.24000000000001, 'X[3] <= 165.0\\ngini = 0.095\\nsamples = 20\\nvalue = [19, 1]'),\n",
              " Text(106.82334630350195, 25.8857142857143, 'X[3] <= 159.5\\ngini = 0.278\\nsamples = 6\\nvalue = [5, 1]'),\n",
              " Text(104.21789883268482, 15.531428571428563, 'gini = 0.0\\nsamples = 5\\nvalue = [5, 0]'),\n",
              " Text(109.42879377431908, 15.531428571428563, 'gini = 0.0\\nsamples = 1\\nvalue = [0, 1]'),\n",
              " Text(112.03424124513619, 25.8857142857143, 'gini = 0.0\\nsamples = 14\\nvalue = [14, 0]'),\n",
              " Text(117.24513618677044, 46.59428571428572, 'X[3] <= 235.5\\ngini = 0.095\\nsamples = 20\\nvalue = [19, 1]'),\n",
              " Text(114.63968871595331, 36.24000000000001, 'gini = 0.0\\nsamples = 18\\nvalue = [18, 0]'),\n",
              " Text(119.85058365758755, 36.24000000000001, 'X[4] <= 2.5\\ngini = 0.5\\nsamples = 2\\nvalue = [1, 1]'),\n",
              " Text(117.24513618677044, 25.8857142857143, 'gini = 0.0\\nsamples = 1\\nvalue = [1, 0]'),\n",
              " Text(122.45603112840467, 25.8857142857143, 'gini = 0.0\\nsamples = 1\\nvalue = [0, 1]'),\n",
              " Text(130.27237354085602, 56.94857142857143, 'X[1] <= 0.545\\ngini = 0.004\\nsamples = 531\\nvalue = [530, 1]'),\n",
              " Text(127.66692607003891, 46.59428571428572, 'X[1] <= 0.535\\ngini = 0.02\\nsamples = 97\\nvalue = [96, 1]'),\n",
              " Text(125.0614785992218, 36.24000000000001, 'gini = 0.0\\nsamples = 81\\nvalue = [81, 0]'),\n",
              " Text(130.27237354085602, 36.24000000000001, 'X[2] <= 4.5\\ngini = 0.117\\nsamples = 16\\nvalue = [15, 1]'),\n",
              " Text(127.66692607003891, 25.8857142857143, 'gini = 0.0\\nsamples = 12\\nvalue = [12, 0]'),\n",
              " Text(132.87782101167315, 25.8857142857143, 'X[3] <= 203.5\\ngini = 0.375\\nsamples = 4\\nvalue = [3, 1]'),\n",
              " Text(130.27237354085602, 15.531428571428563, 'gini = 0.0\\nsamples = 2\\nvalue = [2, 0]'),\n",
              " Text(135.48326848249027, 15.531428571428563, 'X[3] <= 218.5\\ngini = 0.5\\nsamples = 2\\nvalue = [1, 1]'),\n",
              " Text(132.87782101167315, 5.177142857142854, 'gini = 0.0\\nsamples = 1\\nvalue = [0, 1]'),\n",
              " Text(138.0887159533074, 5.177142857142854, 'gini = 0.0\\nsamples = 1\\nvalue = [1, 0]'),\n",
              " Text(132.87782101167315, 46.59428571428572, 'gini = 0.0\\nsamples = 434\\nvalue = [434, 0]'),\n",
              " Text(138.0887159533074, 67.30285714285714, 'X[0] <= 0.75\\ngini = 0.08\\nsamples = 24\\nvalue = [23, 1]'),\n",
              " Text(135.48326848249027, 56.94857142857143, 'gini = 0.0\\nsamples = 21\\nvalue = [21, 0]'),\n",
              " Text(140.69416342412453, 56.94857142857143, 'X[2] <= 3.5\\ngini = 0.444\\nsamples = 3\\nvalue = [2, 1]'),\n",
              " Text(138.0887159533074, 46.59428571428572, 'gini = 0.0\\nsamples = 1\\nvalue = [0, 1]'),\n",
              " Text(143.29961089494165, 46.59428571428572, 'gini = 0.0\\nsamples = 2\\nvalue = [2, 0]'),\n",
              " Text(134.831906614786, 77.65714285714284, 'gini = 0.0\\nsamples = 426\\nvalue = [426, 0]'),\n",
              " Text(166.74863813229572, 98.36571428571429, 'X[3] <= 179.5\\ngini = 0.043\\nsamples = 184\\nvalue = [180, 4]'),\n",
              " Text(164.1431906614786, 88.01142857142858, 'X[3] <= 178.5\\ngini = 0.108\\nsamples = 70\\nvalue = [66, 4]'),\n",
              " Text(158.93229571984438, 77.65714285714284, 'X[3] <= 163.5\\ngini = 0.087\\nsamples = 66\\nvalue = [63, 3]'),\n",
              " Text(156.32684824902725, 67.30285714285714, 'X[3] <= 162.0\\ngini = 0.124\\nsamples = 45\\nvalue = [42, 3]'),\n",
              " Text(151.115953307393, 56.94857142857143, 'X[1] <= 0.665\\ngini = 0.091\\nsamples = 42\\nvalue = [40, 2]'),\n",
              " Text(148.51050583657587, 46.59428571428572, 'X[3] <= 149.5\\ngini = 0.198\\nsamples = 18\\nvalue = [16, 2]'),\n",
              " Text(145.90505836575875, 36.24000000000001, 'gini = 0.0\\nsamples = 11\\nvalue = [11, 0]'),\n",
              " Text(151.115953307393, 36.24000000000001, 'X[3] <= 152.5\\ngini = 0.408\\nsamples = 7\\nvalue = [5, 2]'),\n",
              " Text(148.51050583657587, 25.8857142857143, 'X[3] <= 150.5\\ngini = 0.444\\nsamples = 3\\nvalue = [1, 2]'),\n",
              " Text(145.90505836575875, 15.531428571428563, 'X[2] <= 3.5\\ngini = 0.5\\nsamples = 2\\nvalue = [1, 1]'),\n",
              " Text(143.29961089494165, 5.177142857142854, 'gini = 0.0\\nsamples = 1\\nvalue = [1, 0]'),\n",
              " Text(148.51050583657587, 5.177142857142854, 'gini = 0.0\\nsamples = 1\\nvalue = [0, 1]'),\n",
              " Text(151.115953307393, 15.531428571428563, 'gini = 0.0\\nsamples = 1\\nvalue = [0, 1]'),\n",
              " Text(153.72140077821012, 25.8857142857143, 'gini = 0.0\\nsamples = 4\\nvalue = [4, 0]'),\n",
              " Text(153.72140077821012, 46.59428571428572, 'gini = 0.0\\nsamples = 24\\nvalue = [24, 0]'),\n",
              " Text(161.53774319066147, 56.94857142857143, 'X[2] <= 4.5\\ngini = 0.444\\nsamples = 3\\nvalue = [2, 1]'),\n",
              " Text(158.93229571984438, 46.59428571428572, 'gini = 0.0\\nsamples = 2\\nvalue = [2, 0]'),\n",
              " Text(164.1431906614786, 46.59428571428572, 'gini = 0.0\\nsamples = 1\\nvalue = [0, 1]'),\n",
              " Text(161.53774319066147, 67.30285714285714, 'gini = 0.0\\nsamples = 21\\nvalue = [21, 0]'),\n",
              " Text(169.35408560311285, 77.65714285714284, 'X[1] <= 0.91\\ngini = 0.375\\nsamples = 4\\nvalue = [3, 1]'),\n",
              " Text(166.74863813229572, 67.30285714285714, 'gini = 0.0\\nsamples = 3\\nvalue = [3, 0]'),\n",
              " Text(171.95953307392998, 67.30285714285714, 'gini = 0.0\\nsamples = 1\\nvalue = [0, 1]'),\n",
              " Text(169.35408560311285, 88.01142857142858, 'gini = 0.0\\nsamples = 114\\nvalue = [114, 0]'),\n",
              " Text(149.32470817120623, 108.72, 'gini = 0.0\\nsamples = 453\\nvalue = [453, 0]'),\n",
              " Text(177.1704280155642, 129.42857142857144, 'X[4] <= 2.5\\ngini = 0.044\\nsamples = 177\\nvalue = [173, 4]'),\n",
              " Text(174.56498054474707, 119.07428571428571, 'X[0] <= 0.795\\ngini = 0.102\\nsamples = 74\\nvalue = [70, 4]'),\n",
              " Text(171.95953307392998, 108.72, 'gini = 0.0\\nsamples = 49\\nvalue = [49, 0]'),\n",
              " Text(177.1704280155642, 108.72, 'X[3] <= 265.5\\ngini = 0.269\\nsamples = 25\\nvalue = [21, 4]'),\n",
              " Text(174.56498054474707, 98.36571428571429, 'gini = 0.0\\nsamples = 2\\nvalue = [0, 2]'),\n",
              " Text(179.77587548638132, 98.36571428571429, 'X[0] <= 0.81\\ngini = 0.159\\nsamples = 23\\nvalue = [21, 2]'),\n",
              " Text(177.1704280155642, 88.01142857142858, 'X[3] <= 269.5\\ngini = 0.444\\nsamples = 3\\nvalue = [1, 2]'),\n",
              " Text(174.56498054474707, 77.65714285714284, 'gini = 0.0\\nsamples = 2\\nvalue = [0, 2]'),\n",
              " Text(179.77587548638132, 77.65714285714284, 'gini = 0.0\\nsamples = 1\\nvalue = [1, 0]'),\n",
              " Text(182.38132295719845, 88.01142857142858, 'gini = 0.0\\nsamples = 20\\nvalue = [20, 0]'),\n",
              " Text(179.77587548638132, 119.07428571428571, 'gini = 0.0\\nsamples = 103\\nvalue = [103, 0]'),\n",
              " Text(190.1976653696498, 139.78285714285715, 'X[2] <= 5.5\\ngini = 0.159\\nsamples = 23\\nvalue = [21, 2]'),\n",
              " Text(187.5922178988327, 129.42857142857144, 'X[0] <= 0.54\\ngini = 0.087\\nsamples = 22\\nvalue = [21, 1]'),\n",
              " Text(184.98677042801557, 119.07428571428571, 'X[3] <= 182.0\\ngini = 0.375\\nsamples = 4\\nvalue = [3, 1]'),\n",
              " Text(182.38132295719845, 108.72, 'gini = 0.0\\nsamples = 1\\nvalue = [0, 1]'),\n",
              " Text(187.5922178988327, 108.72, 'gini = 0.0\\nsamples = 3\\nvalue = [3, 0]'),\n",
              " Text(190.1976653696498, 119.07428571428571, 'gini = 0.0\\nsamples = 18\\nvalue = [18, 0]'),\n",
              " Text(192.80311284046692, 129.42857142857144, 'gini = 0.0\\nsamples = 1\\nvalue = [0, 1]'),\n",
              " Text(221.62587548638132, 160.49142857142857, 'X[0] <= 0.475\\ngini = 0.096\\nsamples = 395\\nvalue = [375, 20]'),\n",
              " Text(206.4817120622568, 150.13714285714286, 'X[2] <= 3.5\\ngini = 0.5\\nsamples = 4\\nvalue = [2, 2]'),\n",
              " Text(203.8762645914397, 139.78285714285715, 'gini = 0.0\\nsamples = 2\\nvalue = [2, 0]'),\n",
              " Text(209.08715953307393, 139.78285714285715, 'gini = 0.0\\nsamples = 2\\nvalue = [0, 2]'),\n",
              " Text(236.77003891050583, 150.13714285714286, 'X[3] <= 178.0\\ngini = 0.088\\nsamples = 391\\nvalue = [373, 18]'),\n",
              " Text(214.29805447470818, 139.78285714285715, 'X[3] <= 157.5\\ngini = 0.173\\nsamples = 136\\nvalue = [123, 13]'),\n",
              " Text(200.6194552529183, 129.42857142857144, 'X[0] <= 0.555\\ngini = 0.065\\nsamples = 89\\nvalue = [86, 3]'),\n",
              " Text(195.40856031128405, 119.07428571428571, 'X[0] <= 0.545\\ngini = 0.172\\nsamples = 21\\nvalue = [19, 2]'),\n",
              " Text(192.80311284046692, 108.72, 'X[3] <= 152.0\\ngini = 0.095\\nsamples = 20\\nvalue = [19, 1]'),\n",
              " Text(190.1976653696498, 98.36571428571429, 'gini = 0.0\\nsamples = 19\\nvalue = [19, 0]'),\n",
              " Text(195.40856031128405, 98.36571428571429, 'gini = 0.0\\nsamples = 1\\nvalue = [0, 1]'),\n",
              " Text(198.01400778210117, 108.72, 'gini = 0.0\\nsamples = 1\\nvalue = [0, 1]'),\n",
              " Text(205.83035019455252, 119.07428571428571, 'X[2] <= 5.5\\ngini = 0.029\\nsamples = 68\\nvalue = [67, 1]'),\n",
              " Text(203.22490272373543, 108.72, 'gini = 0.0\\nsamples = 62\\nvalue = [62, 0]'),\n",
              " Text(208.43579766536965, 108.72, 'X[1] <= 0.805\\ngini = 0.278\\nsamples = 6\\nvalue = [5, 1]'),\n",
              " Text(205.83035019455252, 98.36571428571429, 'gini = 0.0\\nsamples = 5\\nvalue = [5, 0]'),\n",
              " Text(211.04124513618677, 98.36571428571429, 'gini = 0.0\\nsamples = 1\\nvalue = [0, 1]'),\n",
              " Text(227.97665369649806, 129.42857142857144, 'X[3] <= 161.5\\ngini = 0.335\\nsamples = 47\\nvalue = [37, 10]'),\n",
              " Text(221.46303501945525, 119.07428571428571, 'X[2] <= 5.5\\ngini = 0.494\\nsamples = 9\\nvalue = [4, 5]'),\n",
              " Text(218.85758754863815, 108.72, 'X[3] <= 158.5\\ngini = 0.444\\nsamples = 6\\nvalue = [4, 2]'),\n",
              " Text(216.25214007782102, 98.36571428571429, 'gini = 0.0\\nsamples = 1\\nvalue = [0, 1]'),\n",
              " Text(221.46303501945525, 98.36571428571429, 'X[2] <= 3.5\\ngini = 0.32\\nsamples = 5\\nvalue = [4, 1]'),\n",
              " Text(218.85758754863815, 88.01142857142858, 'gini = 0.0\\nsamples = 1\\nvalue = [0, 1]'),\n",
              " Text(224.06848249027237, 88.01142857142858, 'gini = 0.0\\nsamples = 4\\nvalue = [4, 0]'),\n",
              " Text(224.06848249027237, 108.72, 'gini = 0.0\\nsamples = 3\\nvalue = [0, 3]'),\n",
              " Text(234.49027237354088, 119.07428571428571, 'X[1] <= 0.83\\ngini = 0.229\\nsamples = 38\\nvalue = [33, 5]'),\n",
              " Text(231.88482490272375, 108.72, 'gini = 0.0\\nsamples = 22\\nvalue = [22, 0]'),\n",
              " Text(237.09571984435797, 108.72, 'X[1] <= 0.875\\ngini = 0.43\\nsamples = 16\\nvalue = [11, 5]'),\n",
              " Text(231.88482490272375, 98.36571428571429, 'X[0] <= 0.89\\ngini = 0.32\\nsamples = 5\\nvalue = [1, 4]'),\n",
              " Text(229.27937743190662, 88.01142857142858, 'gini = 0.0\\nsamples = 4\\nvalue = [0, 4]'),\n",
              " Text(234.49027237354088, 88.01142857142858, 'gini = 0.0\\nsamples = 1\\nvalue = [1, 0]'),\n",
              " Text(242.30661478599222, 98.36571428571429, 'X[3] <= 164.0\\ngini = 0.165\\nsamples = 11\\nvalue = [10, 1]'),\n",
              " Text(239.7011673151751, 88.01142857142858, 'gini = 0.0\\nsamples = 1\\nvalue = [0, 1]'),\n",
              " Text(244.91206225680935, 88.01142857142858, 'gini = 0.0\\nsamples = 10\\nvalue = [10, 0]'),\n",
              " Text(259.2420233463035, 139.78285714285715, 'X[0] <= 0.755\\ngini = 0.038\\nsamples = 255\\nvalue = [250, 5]'),\n",
              " Text(250.1229571984436, 129.42857142857144, 'X[0] <= 0.515\\ngini = 0.015\\nsamples = 136\\nvalue = [135, 1]'),\n",
              " Text(247.51750972762648, 119.07428571428571, 'X[2] <= 4.5\\ngini = 0.1\\nsamples = 19\\nvalue = [18, 1]'),\n",
              " Text(244.91206225680935, 108.72, 'gini = 0.0\\nsamples = 15\\nvalue = [15, 0]'),\n",
              " Text(250.1229571984436, 108.72, 'X[1] <= 0.675\\ngini = 0.375\\nsamples = 4\\nvalue = [3, 1]'),\n",
              " Text(247.51750972762648, 98.36571428571429, 'gini = 0.0\\nsamples = 2\\nvalue = [2, 0]'),\n",
              " Text(252.7284046692607, 98.36571428571429, 'X[1] <= 0.895\\ngini = 0.5\\nsamples = 2\\nvalue = [1, 1]'),\n",
              " Text(250.1229571984436, 88.01142857142858, 'gini = 0.0\\nsamples = 1\\nvalue = [0, 1]'),\n",
              " Text(255.33385214007782, 88.01142857142858, 'gini = 0.0\\nsamples = 1\\nvalue = [1, 0]'),\n",
              " Text(252.7284046692607, 119.07428571428571, 'gini = 0.0\\nsamples = 117\\nvalue = [117, 0]'),\n",
              " Text(268.3610894941634, 129.42857142857144, 'X[0] <= 0.765\\ngini = 0.065\\nsamples = 119\\nvalue = [115, 4]'),\n",
              " Text(257.9392996108949, 119.07428571428571, 'X[1] <= 0.815\\ngini = 0.375\\nsamples = 4\\nvalue = [3, 1]'),\n",
              " Text(255.33385214007782, 108.72, 'gini = 0.0\\nsamples = 2\\nvalue = [2, 0]'),\n",
              " Text(260.54474708171205, 108.72, 'X[3] <= 235.5\\ngini = 0.5\\nsamples = 2\\nvalue = [1, 1]'),\n",
              " Text(257.9392996108949, 98.36571428571429, 'gini = 0.0\\nsamples = 1\\nvalue = [0, 1]'),\n",
              " Text(263.1501945525292, 98.36571428571429, 'gini = 0.0\\nsamples = 1\\nvalue = [1, 0]'),\n",
              " Text(278.7828793774319, 119.07428571428571, 'X[2] <= 2.5\\ngini = 0.051\\nsamples = 115\\nvalue = [112, 3]'),\n",
              " Text(270.96653696498055, 108.72, 'X[3] <= 264.0\\ngini = 0.245\\nsamples = 7\\nvalue = [6, 1]'),\n",
              " Text(268.3610894941634, 98.36571428571429, 'gini = 0.0\\nsamples = 5\\nvalue = [5, 0]'),\n",
              " Text(273.5719844357977, 98.36571428571429, 'X[3] <= 268.5\\ngini = 0.5\\nsamples = 2\\nvalue = [1, 1]'),\n",
              " Text(270.96653696498055, 88.01142857142858, 'gini = 0.0\\nsamples = 1\\nvalue = [0, 1]'),\n",
              " Text(276.1774319066148, 88.01142857142858, 'gini = 0.0\\nsamples = 1\\nvalue = [1, 0]'),\n",
              " Text(286.5992217898833, 108.72, 'X[1] <= 0.725\\ngini = 0.036\\nsamples = 108\\nvalue = [106, 2]'),\n",
              " Text(283.9937743190662, 98.36571428571429, 'X[1] <= 0.69\\ngini = 0.078\\nsamples = 49\\nvalue = [47, 2]'),\n",
              " Text(281.38832684824905, 88.01142857142858, 'gini = 0.0\\nsamples = 41\\nvalue = [41, 0]'),\n",
              " Text(286.5992217898833, 88.01142857142858, 'X[5] <= 0.5\\ngini = 0.375\\nsamples = 8\\nvalue = [6, 2]'),\n",
              " Text(283.9937743190662, 77.65714285714284, 'X[0] <= 0.815\\ngini = 0.444\\nsamples = 6\\nvalue = [4, 2]'),\n",
              " Text(281.38832684824905, 67.30285714285714, 'gini = 0.0\\nsamples = 1\\nvalue = [1, 0]'),\n",
              " Text(286.5992217898833, 67.30285714285714, 'X[0] <= 0.86\\ngini = 0.48\\nsamples = 5\\nvalue = [3, 2]'),\n",
              " Text(283.9937743190662, 56.94857142857143, 'gini = 0.0\\nsamples = 1\\nvalue = [0, 1]'),\n",
              " Text(289.20466926070037, 56.94857142857143, 'X[1] <= 0.71\\ngini = 0.375\\nsamples = 4\\nvalue = [3, 1]'),\n",
              " Text(286.5992217898833, 46.59428571428572, 'X[0] <= 0.895\\ngini = 0.5\\nsamples = 2\\nvalue = [1, 1]'),\n",
              " Text(283.9937743190662, 36.24000000000001, 'gini = 0.0\\nsamples = 1\\nvalue = [1, 0]'),\n",
              " Text(289.20466926070037, 36.24000000000001, 'gini = 0.0\\nsamples = 1\\nvalue = [0, 1]'),\n",
              " Text(291.8101167315175, 46.59428571428572, 'gini = 0.0\\nsamples = 2\\nvalue = [2, 0]'),\n",
              " Text(289.20466926070037, 77.65714285714284, 'gini = 0.0\\nsamples = 2\\nvalue = [2, 0]'),\n",
              " Text(289.20466926070037, 98.36571428571429, 'gini = 0.0\\nsamples = 59\\nvalue = [59, 0]'),\n",
              " Text(181.4806116245136, 170.84571428571428, 'gini = 0.0\\nsamples = 1\\nvalue = [0, 1]'),\n",
              " Text(184.08605909533074, 181.2, 'gini = 0.0\\nsamples = 3\\nvalue = [0, 3]'),\n",
              " Text(291.48443579766536, 191.5542857142857, 'X[1] <= 0.805\\ngini = 0.497\\nsamples = 599\\nvalue = [323, 276]'),\n",
              " Text(274.87470817120624, 181.2, 'X[3] <= 274.5\\ngini = 0.043\\nsamples = 229\\nvalue = [224, 5]'),\n",
              " Text(267.05836575875486, 170.84571428571428, 'X[0] <= 0.885\\ngini = 0.009\\nsamples = 216\\nvalue = [215, 1]'),\n",
              " Text(264.45291828793773, 160.49142857142857, 'gini = 0.0\\nsamples = 166\\nvalue = [166, 0]'),\n",
              " Text(269.663813229572, 160.49142857142857, 'X[0] <= 0.895\\ngini = 0.039\\nsamples = 50\\nvalue = [49, 1]'),\n",
              " Text(267.05836575875486, 150.13714285714286, 'X[1] <= 0.62\\ngini = 0.444\\nsamples = 3\\nvalue = [2, 1]'),\n",
              " Text(264.45291828793773, 139.78285714285715, 'gini = 0.0\\nsamples = 2\\nvalue = [2, 0]'),\n",
              " Text(269.663813229572, 139.78285714285715, 'gini = 0.0\\nsamples = 1\\nvalue = [0, 1]'),\n",
              " Text(272.2692607003891, 150.13714285714286, 'gini = 0.0\\nsamples = 47\\nvalue = [47, 0]'),\n",
              " Text(282.6910505836576, 170.84571428571428, 'X[3] <= 281.5\\ngini = 0.426\\nsamples = 13\\nvalue = [9, 4]'),\n",
              " Text(280.0856031128405, 160.49142857142857, 'X[6] <= 0.5\\ngini = 0.32\\nsamples = 5\\nvalue = [1, 4]'),\n",
              " Text(277.48015564202336, 150.13714285714286, 'gini = 0.0\\nsamples = 4\\nvalue = [0, 4]'),\n",
              " Text(282.6910505836576, 150.13714285714286, 'gini = 0.0\\nsamples = 1\\nvalue = [1, 0]'),\n",
              " Text(285.29649805447474, 160.49142857142857, 'gini = 0.0\\nsamples = 8\\nvalue = [8, 0]'),\n",
              " Text(308.09416342412453, 181.2, 'X[3] <= 212.5\\ngini = 0.392\\nsamples = 370\\nvalue = [99, 271]'),\n",
              " Text(295.7182879377432, 170.84571428571428, 'X[1] <= 0.995\\ngini = 0.119\\nsamples = 63\\nvalue = [59, 4]'),\n",
              " Text(293.11284046692606, 160.49142857142857, 'X[1] <= 0.815\\ngini = 0.092\\nsamples = 62\\nvalue = [59, 3]'),\n",
              " Text(287.90194552529186, 150.13714285714286, 'X[5] <= 0.5\\ngini = 0.444\\nsamples = 3\\nvalue = [2, 1]'),\n",
              " Text(285.29649805447474, 139.78285714285715, 'gini = 0.0\\nsamples = 2\\nvalue = [2, 0]'),\n",
              " Text(290.50739299610893, 139.78285714285715, 'gini = 0.0\\nsamples = 1\\nvalue = [0, 1]'),\n",
              " Text(298.3237354085603, 150.13714285714286, 'X[0] <= 0.855\\ngini = 0.065\\nsamples = 59\\nvalue = [57, 2]'),\n",
              " Text(295.7182879377432, 139.78285714285715, 'gini = 0.0\\nsamples = 45\\nvalue = [45, 0]'),\n",
              " Text(300.92918287937744, 139.78285714285715, 'X[0] <= 0.865\\ngini = 0.245\\nsamples = 14\\nvalue = [12, 2]'),\n",
              " Text(298.3237354085603, 129.42857142857144, 'gini = 0.0\\nsamples = 1\\nvalue = [0, 1]'),\n",
              " Text(303.53463035019456, 129.42857142857144, 'X[3] <= 180.0\\ngini = 0.142\\nsamples = 13\\nvalue = [12, 1]'),\n",
              " Text(300.92918287937744, 119.07428571428571, 'gini = 0.0\\nsamples = 11\\nvalue = [11, 0]'),\n",
              " Text(306.1400778210117, 119.07428571428571, 'X[4] <= 6.0\\ngini = 0.5\\nsamples = 2\\nvalue = [1, 1]'),\n",
              " Text(303.53463035019456, 108.72, 'gini = 0.0\\nsamples = 1\\nvalue = [0, 1]'),\n",
              " Text(308.7455252918288, 108.72, 'gini = 0.0\\nsamples = 1\\nvalue = [1, 0]'),\n",
              " Text(298.3237354085603, 160.49142857142857, 'gini = 0.0\\nsamples = 1\\nvalue = [0, 1]'),\n",
              " Text(320.4700389105058, 170.84571428571428, 'X[4] <= 6.5\\ngini = 0.227\\nsamples = 307\\nvalue = [40, 267]'),\n",
              " Text(313.95642023346306, 160.49142857142857, 'X[0] <= 0.71\\ngini = 0.136\\nsamples = 286\\nvalue = [21, 265]'),\n",
              " Text(308.7455252918288, 150.13714285714286, 'X[1] <= 0.905\\ngini = 0.473\\nsamples = 13\\nvalue = [8, 5]'),\n",
              " Text(306.1400778210117, 139.78285714285715, 'gini = 0.0\\nsamples = 6\\nvalue = [6, 0]'),\n",
              " Text(311.35097276264594, 139.78285714285715, 'X[1] <= 0.935\\ngini = 0.408\\nsamples = 7\\nvalue = [2, 5]'),\n",
              " Text(308.7455252918288, 129.42857142857144, 'gini = 0.0\\nsamples = 5\\nvalue = [0, 5]'),\n",
              " Text(313.95642023346306, 129.42857142857144, 'gini = 0.0\\nsamples = 2\\nvalue = [2, 0]'),\n",
              " Text(319.16731517509726, 150.13714285714286, 'X[2] <= 3.5\\ngini = 0.091\\nsamples = 273\\nvalue = [13, 260]'),\n",
              " Text(316.5618677042802, 139.78285714285715, 'gini = 0.0\\nsamples = 4\\nvalue = [4, 0]'),\n",
              " Text(321.7727626459144, 139.78285714285715, 'X[2] <= 5.5\\ngini = 0.065\\nsamples = 269\\nvalue = [9, 260]'),\n",
              " Text(319.16731517509726, 129.42857142857144, 'X[0] <= 0.945\\ngini = 0.051\\nsamples = 267\\nvalue = [7, 260]'),\n",
              " Text(316.5618677042802, 119.07428571428571, 'X[3] <= 291.5\\ngini = 0.044\\nsamples = 266\\nvalue = [6, 260]'),\n",
              " Text(313.95642023346306, 108.72, 'X[0] <= 0.895\\ngini = 0.037\\nsamples = 265\\nvalue = [5, 260]'),\n",
              " Text(306.1400778210117, 98.36571428571429, 'X[1] <= 0.835\\ngini = 0.009\\nsamples = 227\\nvalue = [1, 226]'),\n",
              " Text(303.53463035019456, 88.01142857142858, 'X[3] <= 261.0\\ngini = 0.124\\nsamples = 15\\nvalue = [1, 14]'),\n",
              " Text(300.92918287937744, 77.65714285714284, 'gini = 0.0\\nsamples = 13\\nvalue = [0, 13]'),\n",
              " Text(306.1400778210117, 77.65714285714284, 'X[3] <= 269.5\\ngini = 0.5\\nsamples = 2\\nvalue = [1, 1]'),\n",
              " Text(303.53463035019456, 67.30285714285714, 'gini = 0.0\\nsamples = 1\\nvalue = [1, 0]'),\n",
              " Text(308.7455252918288, 67.30285714285714, 'gini = 0.0\\nsamples = 1\\nvalue = [0, 1]'),\n",
              " Text(308.7455252918288, 88.01142857142858, 'gini = 0.0\\nsamples = 212\\nvalue = [0, 212]'),\n",
              " Text(321.7727626459144, 98.36571428571429, 'X[3] <= 244.0\\ngini = 0.188\\nsamples = 38\\nvalue = [4, 34]'),\n",
              " Text(319.16731517509726, 88.01142857142858, 'X[3] <= 242.5\\ngini = 0.444\\nsamples = 12\\nvalue = [4, 8]'),\n",
              " Text(316.5618677042802, 77.65714285714284, 'X[3] <= 220.0\\ngini = 0.198\\nsamples = 9\\nvalue = [1, 8]'),\n",
              " Text(313.95642023346306, 67.30285714285714, 'gini = 0.0\\nsamples = 1\\nvalue = [1, 0]'),\n",
              " Text(319.16731517509726, 67.30285714285714, 'gini = 0.0\\nsamples = 8\\nvalue = [0, 8]'),\n",
              " Text(321.7727626459144, 77.65714285714284, 'gini = 0.0\\nsamples = 3\\nvalue = [3, 0]'),\n",
              " Text(324.3782101167315, 88.01142857142858, 'gini = 0.0\\nsamples = 26\\nvalue = [0, 26]'),\n",
              " Text(319.16731517509726, 108.72, 'gini = 0.0\\nsamples = 1\\nvalue = [1, 0]'),\n",
              " Text(321.7727626459144, 119.07428571428571, 'gini = 0.0\\nsamples = 1\\nvalue = [1, 0]'),\n",
              " Text(324.3782101167315, 129.42857142857144, 'gini = 0.0\\nsamples = 2\\nvalue = [2, 0]'),\n",
              " Text(326.98365758754863, 160.49142857142857, 'X[0] <= 0.885\\ngini = 0.172\\nsamples = 21\\nvalue = [19, 2]'),\n",
              " Text(324.3782101167315, 150.13714285714286, 'gini = 0.0\\nsamples = 14\\nvalue = [14, 0]'),\n",
              " Text(329.58910505836576, 150.13714285714286, 'X[0] <= 0.915\\ngini = 0.408\\nsamples = 7\\nvalue = [5, 2]'),\n",
              " Text(326.98365758754863, 139.78285714285715, 'gini = 0.0\\nsamples = 2\\nvalue = [0, 2]'),\n",
              " Text(332.1945525291829, 139.78285714285715, 'gini = 0.0\\nsamples = 5\\nvalue = [5, 0]')]"
            ]
          },
          "metadata": {
            "tags": []
          },
          "execution_count": 64
        },
        {
          "output_type": "display_data",
          "data": {
            "image/png": "[encoded data removed]",
            "text/plain": [
              "<Figure size 432x288 with 1 Axes>"
            ]
          },
          "metadata": {
            "tags": [],
            "needs_background": "light"
          }
        }
      ]
    },
    {
      "cell_type": "markdown",
      "metadata": {
        "id": "SCm81FUGeZzk"
      },
      "source": [
        "RANDOM FOREST"
      ]
    },
    {
      "cell_type": "code",
      "metadata": {
        "colab": {
          "base_uri": "https://localhost:8080/"
        },
        "id": "QzDzRVA4dxCy",
        "outputId": "69724766-24da-4ca6-cc49-243eaaa724ee"
      },
      "source": [
        "from sklearn.ensemble import RandomForestClassifier\n",
        "classifier=RandomForestClassifier(n_estimators=20,criterion='entropy',random_state=0)\n",
        "classifier.fit(x_train,y_train)"
      ],
      "execution_count": 65,
      "outputs": [
        {
          "output_type": "execute_result",
          "data": {
            "text/plain": [
              "RandomForestClassifier(bootstrap=True, ccp_alpha=0.0, class_weight=None,\n",
              "                       criterion='entropy', max_depth=None, max_features='auto',\n",
              "                       max_leaf_nodes=None, max_samples=None,\n",
              "                       min_impurity_decrease=0.0, min_impurity_split=None,\n",
              "                       min_samples_leaf=1, min_samples_split=2,\n",
              "                       min_weight_fraction_leaf=0.0, n_estimators=20,\n",
              "                       n_jobs=None, oob_score=False, random_state=0, verbose=0,\n",
              "                       warm_start=False)"
            ]
          },
          "metadata": {
            "tags": []
          },
          "execution_count": 65
        }
      ]
    },
    {
      "cell_type": "code",
      "metadata": {
        "id": "M2WskImUdxF1"
      },
      "source": [
        "y_pred3=classifier.predict(x_test)"
      ],
      "execution_count": 66,
      "outputs": []
    },
    {
      "cell_type": "code",
      "metadata": {
        "colab": {
          "base_uri": "https://localhost:8080/"
        },
        "id": "dYjp7CGldx11",
        "outputId": "cb3dcdc7-df91-4759-826d-ae75d32d55cc"
      },
      "source": [
        "y_pred3"
      ],
      "execution_count": 67,
      "outputs": [
        {
          "output_type": "execute_result",
          "data": {
            "text/plain": [
              "array([0, 0, 0, ..., 0, 0, 1])"
            ]
          },
          "metadata": {
            "tags": []
          },
          "execution_count": 67
        }
      ]
    },
    {
      "cell_type": "code",
      "metadata": {
        "colab": {
          "base_uri": "https://localhost:8080/"
        },
        "id": "Z5dxnzL2emU_",
        "outputId": "390a71e4-3f9d-4797-905a-8d5a350814ab"
      },
      "source": [
        "y_test"
      ],
      "execution_count": 68,
      "outputs": [
        {
          "output_type": "execute_result",
          "data": {
            "text/plain": [
              "array([0, 0, 0, ..., 0, 0, 1])"
            ]
          },
          "metadata": {
            "tags": []
          },
          "execution_count": 68
        }
      ]
    },
    {
      "cell_type": "code",
      "metadata": {
        "colab": {
          "base_uri": "https://localhost:8080/"
        },
        "id": "GL0yMj6oemcT",
        "outputId": "2d71f5e0-da31-4930-cff7-bc317393fb8a"
      },
      "source": [
        "cmr=confusion_matrix(y_test,y_pred3)\n",
        "cmr"
      ],
      "execution_count": 69,
      "outputs": [
        {
          "output_type": "execute_result",
          "data": {
            "text/plain": [
              "array([[3407,    9],\n",
              "       [  42, 1042]])"
            ]
          },
          "metadata": {
            "tags": []
          },
          "execution_count": 69
        }
      ]
    },
    {
      "cell_type": "code",
      "metadata": {
        "colab": {
          "base_uri": "https://localhost:8080/"
        },
        "id": "_2TEM5Jdemf-",
        "outputId": "c38b1f8d-db40-4594-a1f3-746154602ef6"
      },
      "source": [
        "accuracy_score(y_test,y_pred3)"
      ],
      "execution_count": 70,
      "outputs": [
        {
          "output_type": "execute_result",
          "data": {
            "text/plain": [
              "0.9886666666666667"
            ]
          },
          "metadata": {
            "tags": []
          },
          "execution_count": 70
        }
      ]
    },
    {
      "cell_type": "markdown",
      "metadata": {
        "id": "dyY5k_Sse0Pt"
      },
      "source": [
        "K Nearest Neighbor"
      ]
    },
    {
      "cell_type": "code",
      "metadata": {
        "colab": {
          "base_uri": "https://localhost:8080/"
        },
        "id": "6FZP13TGemip",
        "outputId": "3baa2668-85cd-4845-a2a9-2ee728d913cf"
      },
      "source": [
        "from sklearn.neighbors import KNeighborsClassifier\n",
        "classifier=KNeighborsClassifier(n_neighbors=3)\n",
        "classifier.fit(x_train,y_train)"
      ],
      "execution_count": 71,
      "outputs": [
        {
          "output_type": "execute_result",
          "data": {
            "text/plain": [
              "KNeighborsClassifier(algorithm='auto', leaf_size=30, metric='minkowski',\n",
              "                     metric_params=None, n_jobs=None, n_neighbors=3, p=2,\n",
              "                     weights='uniform')"
            ]
          },
          "metadata": {
            "tags": []
          },
          "execution_count": 71
        }
      ]
    },
    {
      "cell_type": "code",
      "metadata": {
        "id": "kMxcFs3semkr"
      },
      "source": [
        "y_pred4=classifier.predict(x_test)"
      ],
      "execution_count": 72,
      "outputs": []
    },
    {
      "cell_type": "code",
      "metadata": {
        "id": "sBYpuq0jemnC"
      },
      "source": [
        "y_pred4=classifier.predict(x_test)"
      ],
      "execution_count": 73,
      "outputs": []
    },
    {
      "cell_type": "code",
      "metadata": {
        "colab": {
          "base_uri": "https://localhost:8080/"
        },
        "id": "k_0VwLDgemqH",
        "outputId": "8b07fad2-04a1-4978-b4c0-c0e6fbfd517f"
      },
      "source": [
        "y_test"
      ],
      "execution_count": 74,
      "outputs": [
        {
          "output_type": "execute_result",
          "data": {
            "text/plain": [
              "array([0, 0, 0, ..., 0, 0, 1])"
            ]
          },
          "metadata": {
            "tags": []
          },
          "execution_count": 74
        }
      ]
    },
    {
      "cell_type": "code",
      "metadata": {
        "id": "CSva8Bg_fIh_"
      },
      "source": [
        "cmk=confusion_matrix(y_test,y_pred4)"
      ],
      "execution_count": 75,
      "outputs": []
    },
    {
      "cell_type": "code",
      "metadata": {
        "colab": {
          "base_uri": "https://localhost:8080/"
        },
        "id": "NjrXePSEfIlF",
        "outputId": "e0d4fc8e-6433-4a93-ee39-cbf3d74ce1a1"
      },
      "source": [
        "cmk"
      ],
      "execution_count": 76,
      "outputs": [
        {
          "output_type": "execute_result",
          "data": {
            "text/plain": [
              "array([[3257,  159],\n",
              "       [  68, 1016]])"
            ]
          },
          "metadata": {
            "tags": []
          },
          "execution_count": 76
        }
      ]
    },
    {
      "cell_type": "code",
      "metadata": {
        "colab": {
          "base_uri": "https://localhost:8080/"
        },
        "id": "th8kpvSwfIoR",
        "outputId": "f1651248-5e0a-4c7c-d481-c78c11a40e0d"
      },
      "source": [
        "accuracy_score(y_test,y_pred4)"
      ],
      "execution_count": 77,
      "outputs": [
        {
          "output_type": "execute_result",
          "data": {
            "text/plain": [
              "0.9495555555555556"
            ]
          },
          "metadata": {
            "tags": []
          },
          "execution_count": 77
        }
      ]
    },
    {
      "cell_type": "code",
      "metadata": {
        "id": "qvVQe81hfIue"
      },
      "source": [
        "error=[]\n",
        "for i in range(1,60):\n",
        "  knn=KNeighborsClassifier(n_neighbors=i)\n",
        "  knn.fit(x_train,y_train)\n",
        "  Ypred_i=knn.predict(x_test)\n",
        "  error.append(np.mean(Ypred_i !=y_test))"
      ],
      "execution_count": 79,
      "outputs": []
    },
    {
      "cell_type": "code",
      "metadata": {
        "colab": {
          "base_uri": "https://localhost:8080/",
          "height": 405
        },
        "id": "pQIT6KkWfUsU",
        "outputId": "4fd75b3e-8f0a-4c55-d297-1d8305a0257b"
      },
      "source": [
        "plt.figure(figsize=(12,6))\n",
        "plt.plot(range(1,60),error,color='red',linestyle='dashed',marker='o',markerfacecolor='blue',markersize=10)\n",
        "plt.xlabel('Kvalue')\n",
        "plt.ylabel('Mean Error')"
      ],
      "execution_count": 80,
      "outputs": [
        {
          "output_type": "execute_result",
          "data": {
            "text/plain": [
              "Text(0, 0.5, 'Mean Error')"
            ]
          },
          "metadata": {
            "tags": []
          },
          "execution_count": 80
        },
        {
          "output_type": "display_data",
          "data": {
            "image/png": "[encoded data removed]",
            "text/plain": [
              "<Figure size 864x432 with 1 Axes>"
            ]
          },
          "metadata": {
            "tags": [],
            "needs_background": "light"
          }
        }
      ]
    },
    {
      "cell_type": "markdown",
      "metadata": {
        "id": "KnXGonaifyvu"
      },
      "source": [
        "Dealing with Categorical variables"
      ]
    },
    {
      "cell_type": "code",
      "metadata": {
        "colab": {
          "base_uri": "https://localhost:8080/"
        },
        "id": "pU7xIA2CfUuh",
        "outputId": "0d8a3050-a793-4ed2-d5ba-d86b5d5c3031"
      },
      "source": [
        "data['satisfaction_level'].unique()"
      ],
      "execution_count": 82,
      "outputs": [
        {
          "output_type": "execute_result",
          "data": {
            "text/plain": [
              "array([0.38, 0.8 , 0.11, 0.72, 0.37, 0.41, 0.1 , 0.92, 0.89, 0.42, 0.45,\n",
              "       0.84, 0.36, 0.78, 0.76, 0.09, 0.46, 0.4 , 0.82, 0.87, 0.57, 0.43,\n",
              "       0.13, 0.44, 0.39, 0.85, 0.81, 0.9 , 0.74, 0.79, 0.17, 0.24, 0.91,\n",
              "       0.71, 0.86, 0.14, 0.75, 0.7 , 0.31, 0.73, 0.83, 0.32, 0.54, 0.27,\n",
              "       0.77, 0.88, 0.48, 0.19, 0.6 , 0.12, 0.61, 0.33, 0.56, 0.47, 0.28,\n",
              "       0.55, 0.53, 0.59, 0.66, 0.25, 0.34, 0.58, 0.51, 0.35, 0.64, 0.5 ,\n",
              "       0.23, 0.15, 0.49, 0.3 , 0.63, 0.21, 0.62, 0.29, 0.2 , 0.16, 0.65,\n",
              "       0.68, 0.67, 0.22, 0.26, 0.99, 0.98, 1.  , 0.52, 0.93, 0.97, 0.69,\n",
              "       0.94, 0.96, 0.18, 0.95])"
            ]
          },
          "metadata": {
            "tags": []
          },
          "execution_count": 82
        }
      ]
    },
    {
      "cell_type": "code",
      "metadata": {
        "colab": {
          "base_uri": "https://localhost:8080/"
        },
        "id": "3nEdR4arfUxp",
        "outputId": "c122a458-ff04-4f43-a8df-eed45a7dd358"
      },
      "source": [
        "data['last_evaluation'].unique()"
      ],
      "execution_count": 84,
      "outputs": [
        {
          "output_type": "execute_result",
          "data": {
            "text/plain": [
              "array([0.53, 0.86, 0.88, 0.87, 0.52, 0.5 , 0.77, 0.85, 1.  , 0.54, 0.81,\n",
              "       0.92, 0.55, 0.56, 0.47, 0.99, 0.51, 0.89, 0.83, 0.95, 0.57, 0.49,\n",
              "       0.46, 0.62, 0.94, 0.48, 0.8 , 0.74, 0.7 , 0.78, 0.91, 0.93, 0.98,\n",
              "       0.97, 0.79, 0.59, 0.84, 0.45, 0.96, 0.68, 0.82, 0.9 , 0.71, 0.6 ,\n",
              "       0.65, 0.58, 0.72, 0.67, 0.75, 0.73, 0.63, 0.61, 0.76, 0.66, 0.69,\n",
              "       0.37, 0.64, 0.39, 0.41, 0.43, 0.44, 0.36, 0.38, 0.4 , 0.42])"
            ]
          },
          "metadata": {
            "tags": []
          },
          "execution_count": 84
        }
      ]
    },
    {
      "cell_type": "code",
      "metadata": {
        "colab": {
          "base_uri": "https://localhost:8080/"
        },
        "id": "C9MiUPo7fU0B",
        "outputId": "bc9cdef7-d704-4fa1-e0e0-e673fd92f21d"
      },
      "source": [
        "data['number_project'].unique()"
      ],
      "execution_count": 86,
      "outputs": [
        {
          "output_type": "execute_result",
          "data": {
            "text/plain": [
              "array([2, 5, 7, 6, 4, 3])"
            ]
          },
          "metadata": {
            "tags": []
          },
          "execution_count": 86
        }
      ]
    },
    {
      "cell_type": "code",
      "metadata": {
        "colab": {
          "base_uri": "https://localhost:8080/"
        },
        "id": "3nTjk6aofU2w",
        "outputId": "77a09c69-24f8-43d7-945a-181cbb893f7c"
      },
      "source": [
        "data['average_montly_hours'].unique()"
      ],
      "execution_count": 88,
      "outputs": [
        {
          "output_type": "execute_result",
          "data": {
            "text/plain": [
              "array([157, 262, 272, 223, 159, 153, 247, 259, 224, 142, 135, 305, 234,\n",
              "       148, 137, 143, 160, 255, 282, 147, 304, 139, 158, 242, 239, 128,\n",
              "       132, 294, 134, 145, 140, 246, 126, 306, 152, 269, 127, 281, 276,\n",
              "       182, 273, 307, 309, 225, 226, 308, 244, 286, 161, 264, 277, 275,\n",
              "       149, 295, 151, 249, 291, 232, 130, 129, 155, 265, 279, 284, 221,\n",
              "       154, 150, 267, 257, 177, 144, 289, 258, 263, 251, 133, 216, 300,\n",
              "       138, 260, 183, 250, 292, 283, 245, 256, 278, 240, 136, 301, 243,\n",
              "       296, 274, 164, 146, 261, 285, 141, 297, 156, 287, 219, 254, 228,\n",
              "       131, 252, 236, 270, 298, 192, 248, 266, 238, 229, 233, 268, 231,\n",
              "       253, 302, 271, 290, 235, 293, 241, 218, 199, 180, 195, 237, 227,\n",
              "       172, 206, 181, 217, 310, 214, 198, 211, 222, 213, 202, 184, 204,\n",
              "       288, 220, 299, 303, 212, 196, 179, 205, 230, 203, 280, 169, 188,\n",
              "       178, 175, 166, 163, 168, 165, 189, 162, 215, 193, 176, 191, 174,\n",
              "       201, 208, 171, 111, 104, 106, 100, 194, 209, 185, 200, 207, 187,\n",
              "       210, 186, 167, 108, 122, 110, 115, 197, 102, 109, 190,  99, 101,\n",
              "        97, 173, 121, 170, 105, 118, 119, 117, 114,  96,  98, 107, 123,\n",
              "       116, 125, 113, 120, 112, 124, 103])"
            ]
          },
          "metadata": {
            "tags": []
          },
          "execution_count": 88
        }
      ]
    },
    {
      "cell_type": "code",
      "metadata": {
        "id": "8UCGVihrfU6d"
      },
      "source": [
        "data = data.drop(labels='satisfaction_level',axis=1)"
      ],
      "execution_count": 89,
      "outputs": []
    },
    {
      "cell_type": "code",
      "metadata": {
        "colab": {
          "base_uri": "https://localhost:8080/",
          "height": 204
        },
        "id": "HBBxv1Kig31f",
        "outputId": "dbdebf52-6afd-4576-f2fa-09608ea829d0"
      },
      "source": [
        "clean_data=pd.get_dummies(data,drop_first=True)\n",
        "clean_data.head()"
      ],
      "execution_count": 101,
      "outputs": [
        {
          "output_type": "execute_result",
          "data": {
            "text/html": [
              "<div>\n",
              "<style scoped>\n",
              "    .dataframe tbody tr th:only-of-type {\n",
              "        vertical-align: middle;\n",
              "    }\n",
              "\n",
              "    .dataframe tbody tr th {\n",
              "        vertical-align: top;\n",
              "    }\n",
              "\n",
              "    .dataframe thead th {\n",
              "        text-align: right;\n",
              "    }\n",
              "</style>\n",
              "<table border=\"1\" class=\"dataframe\">\n",
              "  <thead>\n",
              "    <tr style=\"text-align: right;\">\n",
              "      <th></th>\n",
              "      <th>last_evaluation</th>\n",
              "      <th>number_project</th>\n",
              "      <th>average_montly_hours</th>\n",
              "      <th>time_spend_company</th>\n",
              "      <th>Work_accident</th>\n",
              "      <th>left</th>\n",
              "      <th>promotion_last_5years</th>\n",
              "    </tr>\n",
              "  </thead>\n",
              "  <tbody>\n",
              "    <tr>\n",
              "      <th>0</th>\n",
              "      <td>0.53</td>\n",
              "      <td>2</td>\n",
              "      <td>157</td>\n",
              "      <td>3</td>\n",
              "      <td>0</td>\n",
              "      <td>1</td>\n",
              "      <td>0</td>\n",
              "    </tr>\n",
              "    <tr>\n",
              "      <th>1</th>\n",
              "      <td>0.86</td>\n",
              "      <td>5</td>\n",
              "      <td>262</td>\n",
              "      <td>6</td>\n",
              "      <td>0</td>\n",
              "      <td>1</td>\n",
              "      <td>0</td>\n",
              "    </tr>\n",
              "    <tr>\n",
              "      <th>2</th>\n",
              "      <td>0.88</td>\n",
              "      <td>7</td>\n",
              "      <td>272</td>\n",
              "      <td>4</td>\n",
              "      <td>0</td>\n",
              "      <td>1</td>\n",
              "      <td>0</td>\n",
              "    </tr>\n",
              "    <tr>\n",
              "      <th>3</th>\n",
              "      <td>0.87</td>\n",
              "      <td>5</td>\n",
              "      <td>223</td>\n",
              "      <td>5</td>\n",
              "      <td>0</td>\n",
              "      <td>1</td>\n",
              "      <td>0</td>\n",
              "    </tr>\n",
              "    <tr>\n",
              "      <th>4</th>\n",
              "      <td>0.52</td>\n",
              "      <td>2</td>\n",
              "      <td>159</td>\n",
              "      <td>3</td>\n",
              "      <td>0</td>\n",
              "      <td>1</td>\n",
              "      <td>0</td>\n",
              "    </tr>\n",
              "  </tbody>\n",
              "</table>\n",
              "</div>"
            ],
            "text/plain": [
              "   last_evaluation  number_project  ...  left  promotion_last_5years\n",
              "0             0.53               2  ...     1                      0\n",
              "1             0.86               5  ...     1                      0\n",
              "2             0.88               7  ...     1                      0\n",
              "3             0.87               5  ...     1                      0\n",
              "4             0.52               2  ...     1                      0\n",
              "\n",
              "[5 rows x 7 columns]"
            ]
          },
          "metadata": {
            "tags": []
          },
          "execution_count": 101
        }
      ]
    },
    {
      "cell_type": "markdown",
      "metadata": {
        "id": "3vjpitXshEE1"
      },
      "source": [
        "Checking Multicollinearity using VIF"
      ]
    },
    {
      "cell_type": "code",
      "metadata": {
        "colab": {
          "base_uri": "https://localhost:8080/",
          "height": 266
        },
        "id": "QdYM0PsZg3_T",
        "outputId": "5f399c08-b39a-4040-fd41-fd093e6e586b"
      },
      "source": [
        "from statsmodels.stats.outliers_influence import variance_inflation_factor\n",
        "variables=clean_data[['last_evaluation','number_project','average_montly_hours','time_spend_company','Work_accident','left','promotion_last_5years']]\n",
        "vif=pd.DataFrame()\n",
        "vif[\"VIF\"]=[variance_inflation_factor(variables.values,i) for i in range(variables.shape[1])]\n",
        "vif[\"Features\"]=variables.columns\n",
        "vif"
      ],
      "execution_count": 104,
      "outputs": [
        {
          "output_type": "execute_result",
          "data": {
            "text/html": [
              "<div>\n",
              "<style scoped>\n",
              "    .dataframe tbody tr th:only-of-type {\n",
              "        vertical-align: middle;\n",
              "    }\n",
              "\n",
              "    .dataframe tbody tr th {\n",
              "        vertical-align: top;\n",
              "    }\n",
              "\n",
              "    .dataframe thead th {\n",
              "        text-align: right;\n",
              "    }\n",
              "</style>\n",
              "<table border=\"1\" class=\"dataframe\">\n",
              "  <thead>\n",
              "    <tr style=\"text-align: right;\">\n",
              "      <th></th>\n",
              "      <th>VIF</th>\n",
              "      <th>Features</th>\n",
              "    </tr>\n",
              "  </thead>\n",
              "  <tbody>\n",
              "    <tr>\n",
              "      <th>0</th>\n",
              "      <td>17.148001</td>\n",
              "      <td>last_evaluation</td>\n",
              "    </tr>\n",
              "    <tr>\n",
              "      <th>1</th>\n",
              "      <td>13.635635</td>\n",
              "      <td>number_project</td>\n",
              "    </tr>\n",
              "    <tr>\n",
              "      <th>2</th>\n",
              "      <td>18.303973</td>\n",
              "      <td>average_montly_hours</td>\n",
              "    </tr>\n",
              "    <tr>\n",
              "      <th>3</th>\n",
              "      <td>6.723075</td>\n",
              "      <td>time_spend_company</td>\n",
              "    </tr>\n",
              "    <tr>\n",
              "      <th>4</th>\n",
              "      <td>1.190144</td>\n",
              "      <td>Work_accident</td>\n",
              "    </tr>\n",
              "    <tr>\n",
              "      <th>5</th>\n",
              "      <td>1.384869</td>\n",
              "      <td>left</td>\n",
              "    </tr>\n",
              "    <tr>\n",
              "      <th>6</th>\n",
              "      <td>1.033020</td>\n",
              "      <td>promotion_last_5years</td>\n",
              "    </tr>\n",
              "  </tbody>\n",
              "</table>\n",
              "</div>"
            ],
            "text/plain": [
              "         VIF               Features\n",
              "0  17.148001        last_evaluation\n",
              "1  13.635635         number_project\n",
              "2  18.303973   average_montly_hours\n",
              "3   6.723075     time_spend_company\n",
              "4   1.190144          Work_accident\n",
              "5   1.384869                   left\n",
              "6   1.033020  promotion_last_5years"
            ]
          },
          "metadata": {
            "tags": []
          },
          "execution_count": 104
        }
      ]
    },
    {
      "cell_type": "code",
      "metadata": {
        "id": "oE06IBb8g4CZ"
      },
      "source": [
        "data_no_multicollinearity=clean_data.drop('last_evaluation',axis=1)   "
      ],
      "execution_count": 106,
      "outputs": []
    },
    {
      "cell_type": "code",
      "metadata": {
        "colab": {
          "base_uri": "https://localhost:8080/",
          "height": 235
        },
        "id": "hN935Smag4FD",
        "outputId": "58b7a2c5-d8e8-433f-9a6c-e13a69ebc85e"
      },
      "source": [
        "variables=clean_data[['last_evaluation','number_project','average_montly_hours','Work_accident','left','promotion_last_5years']]\n",
        "vif=pd.DataFrame()\n",
        "vif[\"VIF\"]=[variance_inflation_factor(variables.values,i) for i in range(variables.shape[1])]\n",
        "vif[\"Features\"]=variables.columns\n",
        "vif"
      ],
      "execution_count": 108,
      "outputs": [
        {
          "output_type": "execute_result",
          "data": {
            "text/html": [
              "<div>\n",
              "<style scoped>\n",
              "    .dataframe tbody tr th:only-of-type {\n",
              "        vertical-align: middle;\n",
              "    }\n",
              "\n",
              "    .dataframe tbody tr th {\n",
              "        vertical-align: top;\n",
              "    }\n",
              "\n",
              "    .dataframe thead th {\n",
              "        text-align: right;\n",
              "    }\n",
              "</style>\n",
              "<table border=\"1\" class=\"dataframe\">\n",
              "  <thead>\n",
              "    <tr style=\"text-align: right;\">\n",
              "      <th></th>\n",
              "      <th>VIF</th>\n",
              "      <th>Features</th>\n",
              "    </tr>\n",
              "  </thead>\n",
              "  <tbody>\n",
              "    <tr>\n",
              "      <th>0</th>\n",
              "      <td>16.258931</td>\n",
              "      <td>last_evaluation</td>\n",
              "    </tr>\n",
              "    <tr>\n",
              "      <th>1</th>\n",
              "      <td>13.180959</td>\n",
              "      <td>number_project</td>\n",
              "    </tr>\n",
              "    <tr>\n",
              "      <th>2</th>\n",
              "      <td>17.848421</td>\n",
              "      <td>average_montly_hours</td>\n",
              "    </tr>\n",
              "    <tr>\n",
              "      <th>3</th>\n",
              "      <td>1.187203</td>\n",
              "      <td>Work_accident</td>\n",
              "    </tr>\n",
              "    <tr>\n",
              "      <th>4</th>\n",
              "      <td>1.347557</td>\n",
              "      <td>left</td>\n",
              "    </tr>\n",
              "    <tr>\n",
              "      <th>5</th>\n",
              "      <td>1.025263</td>\n",
              "      <td>promotion_last_5years</td>\n",
              "    </tr>\n",
              "  </tbody>\n",
              "</table>\n",
              "</div>"
            ],
            "text/plain": [
              "         VIF               Features\n",
              "0  16.258931        last_evaluation\n",
              "1  13.180959         number_project\n",
              "2  17.848421   average_montly_hours\n",
              "3   1.187203          Work_accident\n",
              "4   1.347557                   left\n",
              "5   1.025263  promotion_last_5years"
            ]
          },
          "metadata": {
            "tags": []
          },
          "execution_count": 108
        }
      ]
    },
    {
      "cell_type": "code",
      "metadata": {
        "colab": {
          "base_uri": "https://localhost:8080/",
          "height": 419
        },
        "id": "qq_Un7oNg4IA",
        "outputId": "5469390e-e4fe-4e2c-906c-d7d51b7f6720"
      },
      "source": [
        "data_no_multicollinearity.drop(labels='number_project',axis=1)"
      ],
      "execution_count": 110,
      "outputs": [
        {
          "output_type": "execute_result",
          "data": {
            "text/html": [
              "<div>\n",
              "<style scoped>\n",
              "    .dataframe tbody tr th:only-of-type {\n",
              "        vertical-align: middle;\n",
              "    }\n",
              "\n",
              "    .dataframe tbody tr th {\n",
              "        vertical-align: top;\n",
              "    }\n",
              "\n",
              "    .dataframe thead th {\n",
              "        text-align: right;\n",
              "    }\n",
              "</style>\n",
              "<table border=\"1\" class=\"dataframe\">\n",
              "  <thead>\n",
              "    <tr style=\"text-align: right;\">\n",
              "      <th></th>\n",
              "      <th>average_montly_hours</th>\n",
              "      <th>time_spend_company</th>\n",
              "      <th>Work_accident</th>\n",
              "      <th>left</th>\n",
              "      <th>promotion_last_5years</th>\n",
              "    </tr>\n",
              "  </thead>\n",
              "  <tbody>\n",
              "    <tr>\n",
              "      <th>0</th>\n",
              "      <td>157</td>\n",
              "      <td>3</td>\n",
              "      <td>0</td>\n",
              "      <td>1</td>\n",
              "      <td>0</td>\n",
              "    </tr>\n",
              "    <tr>\n",
              "      <th>1</th>\n",
              "      <td>262</td>\n",
              "      <td>6</td>\n",
              "      <td>0</td>\n",
              "      <td>1</td>\n",
              "      <td>0</td>\n",
              "    </tr>\n",
              "    <tr>\n",
              "      <th>2</th>\n",
              "      <td>272</td>\n",
              "      <td>4</td>\n",
              "      <td>0</td>\n",
              "      <td>1</td>\n",
              "      <td>0</td>\n",
              "    </tr>\n",
              "    <tr>\n",
              "      <th>3</th>\n",
              "      <td>223</td>\n",
              "      <td>5</td>\n",
              "      <td>0</td>\n",
              "      <td>1</td>\n",
              "      <td>0</td>\n",
              "    </tr>\n",
              "    <tr>\n",
              "      <th>4</th>\n",
              "      <td>159</td>\n",
              "      <td>3</td>\n",
              "      <td>0</td>\n",
              "      <td>1</td>\n",
              "      <td>0</td>\n",
              "    </tr>\n",
              "    <tr>\n",
              "      <th>...</th>\n",
              "      <td>...</td>\n",
              "      <td>...</td>\n",
              "      <td>...</td>\n",
              "      <td>...</td>\n",
              "      <td>...</td>\n",
              "    </tr>\n",
              "    <tr>\n",
              "      <th>14994</th>\n",
              "      <td>151</td>\n",
              "      <td>3</td>\n",
              "      <td>0</td>\n",
              "      <td>1</td>\n",
              "      <td>0</td>\n",
              "    </tr>\n",
              "    <tr>\n",
              "      <th>14995</th>\n",
              "      <td>160</td>\n",
              "      <td>3</td>\n",
              "      <td>0</td>\n",
              "      <td>1</td>\n",
              "      <td>0</td>\n",
              "    </tr>\n",
              "    <tr>\n",
              "      <th>14996</th>\n",
              "      <td>143</td>\n",
              "      <td>3</td>\n",
              "      <td>0</td>\n",
              "      <td>1</td>\n",
              "      <td>0</td>\n",
              "    </tr>\n",
              "    <tr>\n",
              "      <th>14997</th>\n",
              "      <td>280</td>\n",
              "      <td>4</td>\n",
              "      <td>0</td>\n",
              "      <td>1</td>\n",
              "      <td>0</td>\n",
              "    </tr>\n",
              "    <tr>\n",
              "      <th>14998</th>\n",
              "      <td>158</td>\n",
              "      <td>3</td>\n",
              "      <td>0</td>\n",
              "      <td>1</td>\n",
              "      <td>0</td>\n",
              "    </tr>\n",
              "  </tbody>\n",
              "</table>\n",
              "<p>14999 rows × 5 columns</p>\n",
              "</div>"
            ],
            "text/plain": [
              "       average_montly_hours  time_spend_company  ...  left  promotion_last_5years\n",
              "0                       157                   3  ...     1                      0\n",
              "1                       262                   6  ...     1                      0\n",
              "2                       272                   4  ...     1                      0\n",
              "3                       223                   5  ...     1                      0\n",
              "4                       159                   3  ...     1                      0\n",
              "...                     ...                 ...  ...   ...                    ...\n",
              "14994                   151                   3  ...     1                      0\n",
              "14995                   160                   3  ...     1                      0\n",
              "14996                   143                   3  ...     1                      0\n",
              "14997                   280                   4  ...     1                      0\n",
              "14998                   158                   3  ...     1                      0\n",
              "\n",
              "[14999 rows x 5 columns]"
            ]
          },
          "metadata": {
            "tags": []
          },
          "execution_count": 110
        }
      ]
    },
    {
      "cell_type": "code",
      "metadata": {
        "id": "I_lgBX7Tg4Ki"
      },
      "source": [
        "x=data_no_multicollinearity.drop('number_project',axis=1)"
      ],
      "execution_count": 112,
      "outputs": []
    },
    {
      "cell_type": "code",
      "metadata": {
        "id": "u1W20iFrg4Pg"
      },
      "source": [
        "y=data_no_multicollinearity['Work_accident']"
      ],
      "execution_count": 114,
      "outputs": []
    },
    {
      "cell_type": "markdown",
      "metadata": {
        "id": "TBvdSI-_jrml"
      },
      "source": [
        "Feature Scaling"
      ]
    },
    {
      "cell_type": "code",
      "metadata": {
        "colab": {
          "base_uri": "https://localhost:8080/"
        },
        "id": "Q1DB0bG1jkfA",
        "outputId": "2bd1cc30-f617-4e9b-d9e6-56260ed4d887"
      },
      "source": [
        "from sklearn.preprocessing import StandardScaler\n",
        "scaler=StandardScaler()\n",
        "scaler.fit(x[['average_montly_hours','Work_accident']])"
      ],
      "execution_count": 117,
      "outputs": [
        {
          "output_type": "execute_result",
          "data": {
            "text/plain": [
              "StandardScaler(copy=True, with_mean=True, with_std=True)"
            ]
          },
          "metadata": {
            "tags": []
          },
          "execution_count": 117
        }
      ]
    },
    {
      "cell_type": "markdown",
      "metadata": {
        "id": "oL2DK_ISj5v4"
      },
      "source": [
        "Training and Testing"
      ]
    },
    {
      "cell_type": "code",
      "metadata": {
        "id": "51S_shf6jkm3"
      },
      "source": [
        "from sklearn.model_selection import train_test_split\n",
        "x_train,x_test,y_train,y_test=train_test_split(x,y,test_size=0.2,random_state=0)"
      ],
      "execution_count": 118,
      "outputs": []
    },
    {
      "cell_type": "markdown",
      "metadata": {
        "id": "NLj5UBr5kFXT"
      },
      "source": [
        "Linear_Regression"
      ]
    },
    {
      "cell_type": "code",
      "metadata": {
        "id": "xpT3BZf1jks8"
      },
      "source": [
        "from sklearn.linear_model import LinearRegression\n",
        "lr=LinearRegression()\n",
        "lr.fit(x_train,y_train)\n",
        "y_pred=lr.predict(x_test)\n"
      ],
      "execution_count": 119,
      "outputs": []
    },
    {
      "cell_type": "code",
      "metadata": {
        "colab": {
          "base_uri": "https://localhost:8080/"
        },
        "id": "pXawc6N4jkvK",
        "outputId": "98cff9d7-b250-451b-8de7-4f01a4d234f6"
      },
      "source": [
        "y_pred"
      ],
      "execution_count": 120,
      "outputs": [
        {
          "output_type": "execute_result",
          "data": {
            "text/plain": [
              "array([-3.93792200e-16, -8.14411471e-17, -2.98926944e-17, ...,\n",
              "       -3.85241896e-16, -1.30358772e-16, -9.87883818e-17])"
            ]
          },
          "metadata": {
            "tags": []
          },
          "execution_count": 120
        }
      ]
    },
    {
      "cell_type": "code",
      "metadata": {
        "colab": {
          "base_uri": "https://localhost:8080/"
        },
        "id": "Sgt_h1BNjk1-",
        "outputId": "a12cee1d-73c7-4ddb-b9e9-69cd72a1e0f3"
      },
      "source": [
        "y_test\n"
      ],
      "execution_count": 122,
      "outputs": [
        {
          "output_type": "execute_result",
          "data": {
            "text/plain": [
              "1670     0\n",
              "13378    0\n",
              "10233    0\n",
              "4719     0\n",
              "7003     0\n",
              "        ..\n",
              "14035    0\n",
              "8469     1\n",
              "12453    0\n",
              "9431     0\n",
              "4202     0\n",
              "Name: Work_accident, Length: 3000, dtype: int64"
            ]
          },
          "metadata": {
            "tags": []
          },
          "execution_count": 122
        }
      ]
    },
    {
      "cell_type": "code",
      "metadata": {
        "id": "4rB0b2Owjk4u"
      },
      "source": [
        "from sklearn.metrics import mean_squared_error,r2_score"
      ],
      "execution_count": 123,
      "outputs": []
    },
    {
      "cell_type": "code",
      "metadata": {
        "id": "jUnIXmr6jk63"
      },
      "source": [
        "r_squared=r2_score(y_test,y_pred)"
      ],
      "execution_count": 124,
      "outputs": []
    },
    {
      "cell_type": "code",
      "metadata": {
        "colab": {
          "base_uri": "https://localhost:8080/"
        },
        "id": "9qtrF9YNjk-O",
        "outputId": "f5fd3d87-06b4-435f-8236-562b8918fd80"
      },
      "source": [
        "r_squared"
      ],
      "execution_count": 125,
      "outputs": [
        {
          "output_type": "execute_result",
          "data": {
            "text/plain": [
              "1.0"
            ]
          },
          "metadata": {
            "tags": []
          },
          "execution_count": 125
        }
      ]
    },
    {
      "cell_type": "code",
      "metadata": {
        "id": "bKo8P8BVjlAi"
      },
      "source": [
        "mse=mean_squared_error(y_test,y_pred)"
      ],
      "execution_count": 126,
      "outputs": []
    },
    {
      "cell_type": "code",
      "metadata": {
        "colab": {
          "base_uri": "https://localhost:8080/"
        },
        "id": "5fkES7L5kcxk",
        "outputId": "47bc9328-2801-432e-d576-589f32fa0572"
      },
      "source": [
        "mse"
      ],
      "execution_count": 127,
      "outputs": [
        {
          "output_type": "execute_result",
          "data": {
            "text/plain": [
              "1.3842926232359818e-31"
            ]
          },
          "metadata": {
            "tags": []
          },
          "execution_count": 127
        }
      ]
    },
    {
      "cell_type": "markdown",
      "metadata": {
        "id": "UUWsijoskjAw"
      },
      "source": [
        "DECISION TREES"
      ]
    },
    {
      "cell_type": "code",
      "metadata": {
        "colab": {
          "base_uri": "https://localhost:8080/"
        },
        "id": "1hFx25Eikc1H",
        "outputId": "caa25dee-6886-4fea-c795-83cac05c37ed"
      },
      "source": [
        "from sklearn.tree import DecisionTreeRegressor,plot_tree\n",
        "dr=DecisionTreeRegressor(random_state=0)\n",
        "dr.fit(x_train,y_train)"
      ],
      "execution_count": 128,
      "outputs": [
        {
          "output_type": "execute_result",
          "data": {
            "text/plain": [
              "DecisionTreeRegressor(ccp_alpha=0.0, criterion='mse', max_depth=None,\n",
              "                      max_features=None, max_leaf_nodes=None,\n",
              "                      min_impurity_decrease=0.0, min_impurity_split=None,\n",
              "                      min_samples_leaf=1, min_samples_split=2,\n",
              "                      min_weight_fraction_leaf=0.0, presort='deprecated',\n",
              "                      random_state=0, splitter='best')"
            ]
          },
          "metadata": {
            "tags": []
          },
          "execution_count": 128
        }
      ]
    },
    {
      "cell_type": "code",
      "metadata": {
        "colab": {
          "base_uri": "https://localhost:8080/"
        },
        "id": "ExYbUb0akc3h",
        "outputId": "c39a14c2-74dc-4518-9f4f-0a63834cd8fc"
      },
      "source": [
        "y_pred1=dr.predict(x_test)\n",
        "y_pred1"
      ],
      "execution_count": 129,
      "outputs": [
        {
          "output_type": "execute_result",
          "data": {
            "text/plain": [
              "array([0., 0., 0., ..., 0., 0., 0.])"
            ]
          },
          "metadata": {
            "tags": []
          },
          "execution_count": 129
        }
      ]
    },
    {
      "cell_type": "code",
      "metadata": {
        "colab": {
          "base_uri": "https://localhost:8080/"
        },
        "id": "hXWZPwcPkc54",
        "outputId": "0c194cd3-cd91-4716-a37f-7330fe27d337"
      },
      "source": [
        "y_test"
      ],
      "execution_count": 130,
      "outputs": [
        {
          "output_type": "execute_result",
          "data": {
            "text/plain": [
              "1670     0\n",
              "13378    0\n",
              "10233    0\n",
              "4719     0\n",
              "7003     0\n",
              "        ..\n",
              "14035    0\n",
              "8469     1\n",
              "12453    0\n",
              "9431     0\n",
              "4202     0\n",
              "Name: Work_accident, Length: 3000, dtype: int64"
            ]
          },
          "metadata": {
            "tags": []
          },
          "execution_count": 130
        }
      ]
    },
    {
      "cell_type": "code",
      "metadata": {
        "colab": {
          "base_uri": "https://localhost:8080/"
        },
        "id": "dRr0wKvskc8Y",
        "outputId": "1a424613-3543-48c2-e50a-1007930cadb3"
      },
      "source": [
        "r_squared=r2_score(y_test,y_pred1)\n",
        "r_squared"
      ],
      "execution_count": 131,
      "outputs": [
        {
          "output_type": "execute_result",
          "data": {
            "text/plain": [
              "1.0"
            ]
          },
          "metadata": {
            "tags": []
          },
          "execution_count": 131
        }
      ]
    },
    {
      "cell_type": "code",
      "metadata": {
        "colab": {
          "base_uri": "https://localhost:8080/"
        },
        "id": "YxNfMhRTkc_2",
        "outputId": "7d7f5705-5921-401b-dba9-6500f7d74c4e"
      },
      "source": [
        "mse=mean_squared_error(y_test,y_pred1)\n",
        "mse"
      ],
      "execution_count": 132,
      "outputs": [
        {
          "output_type": "execute_result",
          "data": {
            "text/plain": [
              "0.0"
            ]
          },
          "metadata": {
            "tags": []
          },
          "execution_count": 132
        }
      ]
    },
    {
      "cell_type": "code",
      "metadata": {
        "colab": {
          "base_uri": "https://localhost:8080/",
          "height": 462
        },
        "id": "vHPMWIbmkdCK",
        "outputId": "5bd873ee-ebd4-4a39-90e6-a2667c79d2d4"
      },
      "source": [
        "df=dr.fit(x_test,y_pred)\n",
        "plt.figure(figsize=(15,7))\n",
        "plot_tree(df,filled=True)"
      ],
      "execution_count": 133,
      "outputs": [
        {
          "output_type": "execute_result",
          "data": {
            "text/plain": [
              "[Text(418.5, 285.39, 'X[2] <= 0.5\\nmse = 0.124\\nsamples = 3000\\nvalue = 0.145'),\n",
              " Text(209.25, 95.13, 'mse = 0.0\\nsamples = 2564\\nvalue = -0.0'),\n",
              " Text(627.75, 95.13, 'mse = 0.0\\nsamples = 436\\nvalue = 1.0')]"
            ]
          },
          "metadata": {
            "tags": []
          },
          "execution_count": 133
        },
        {
          "output_type": "display_data",
          "data": {
            "image/png": "[encoded data removed]",
            "text/plain": [
              "<Figure size 1080x504 with 1 Axes>"
            ]
          },
          "metadata": {
            "tags": [],
            "needs_background": "light"
          }
        }
      ]
    },
    {
      "cell_type": "code",
      "metadata": {
        "id": "Hb2GY6aakdFO"
      },
      "source": [
        "from sklearn.ensemble import RandomForestRegressor\n",
        "rf=RandomForestRegressor()\n",
        "rf.fit(x_train,y_train)\n",
        "y_pred=rf.predict(x_test)"
      ],
      "execution_count": 134,
      "outputs": []
    },
    {
      "cell_type": "code",
      "metadata": {
        "colab": {
          "base_uri": "https://localhost:8080/"
        },
        "id": "16wSrkxjk97u",
        "outputId": "eeb2b3fc-27b8-4f11-8e6e-fed605a5dd10"
      },
      "source": [
        "y_pred"
      ],
      "execution_count": 135,
      "outputs": [
        {
          "output_type": "execute_result",
          "data": {
            "text/plain": [
              "array([0., 0., 0., ..., 0., 0., 0.])"
            ]
          },
          "metadata": {
            "tags": []
          },
          "execution_count": 135
        }
      ]
    },
    {
      "cell_type": "code",
      "metadata": {
        "id": "JF3CcJOQk-AM"
      },
      "source": [
        "r_squared=r2_score(y_test,y_pred)"
      ],
      "execution_count": 137,
      "outputs": []
    },
    {
      "cell_type": "code",
      "metadata": {
        "colab": {
          "base_uri": "https://localhost:8080/"
        },
        "id": "aPfK26Jxk-C6",
        "outputId": "ad48eaca-a971-4a18-ad61-12c62fc7c451"
      },
      "source": [
        "r_squared"
      ],
      "execution_count": 138,
      "outputs": [
        {
          "output_type": "execute_result",
          "data": {
            "text/plain": [
              "1.0"
            ]
          },
          "metadata": {
            "tags": []
          },
          "execution_count": 138
        }
      ]
    },
    {
      "cell_type": "code",
      "metadata": {
        "colab": {
          "base_uri": "https://localhost:8080/"
        },
        "id": "7tLU4Vd6lLAw",
        "outputId": "011648f4-1be5-4ccb-a950-369cfe2c5f12"
      },
      "source": [
        "mse=mean_squared_error(y_test,y_pred)\n",
        "mse"
      ],
      "execution_count": 139,
      "outputs": [
        {
          "output_type": "execute_result",
          "data": {
            "text/plain": [
              "0.0"
            ]
          },
          "metadata": {
            "tags": []
          },
          "execution_count": 139
        }
      ]
    },
    {
      "cell_type": "code",
      "metadata": {
        "colab": {
          "base_uri": "https://localhost:8080/"
        },
        "id": "_APJgPmulQEK",
        "outputId": "370d3fdd-ad27-469c-f194-ca8cabebfd1f"
      },
      "source": [
        "x=data.iloc[:,[1,2,3,4]].values\n",
        "x"
      ],
      "execution_count": 142,
      "outputs": [
        {
          "output_type": "execute_result",
          "data": {
            "text/plain": [
              "array([[  2, 157,   3,   0],\n",
              "       [  5, 262,   6,   0],\n",
              "       [  7, 272,   4,   0],\n",
              "       ...,\n",
              "       [  2, 143,   3,   0],\n",
              "       [  6, 280,   4,   0],\n",
              "       [  2, 158,   3,   0]])"
            ]
          },
          "metadata": {
            "tags": []
          },
          "execution_count": 142
        }
      ]
    },
    {
      "cell_type": "markdown",
      "metadata": {
        "id": "D6Gy72zclxWs"
      },
      "source": [
        "cluster"
      ]
    },
    {
      "cell_type": "code",
      "metadata": {
        "id": "kSkK9a50lQGv"
      },
      "source": [
        "from sklearn.cluster import KMeans"
      ],
      "execution_count": 151,
      "outputs": []
    },
    {
      "cell_type": "code",
      "metadata": {
        "id": "VE0MiQbalQJs"
      },
      "source": [
        "def elbowmethod(num_clusters,inertias):\n",
        "  plt.plot(num_clusters,inertias)\n",
        "  plt.show()"
      ],
      "execution_count": 152,
      "outputs": []
    },
    {
      "cell_type": "code",
      "metadata": {
        "colab": {
          "base_uri": "https://localhost:8080/",
          "height": 276
        },
        "id": "XtXxB0uzlQL8",
        "outputId": "52fe928e-949a-4a6f-8406-41a2cd89a085"
      },
      "source": [
        "inertias=[]\n",
        "clusters=range(1,11)\n",
        "for i in range(1,11):\n",
        "  kmeans=KMeans(n_clusters=i,max_iter=300,random_state=0)\n",
        "  kmeans.fit(x)\n",
        "  inertias.append(kmeans.inertia_)\n",
        "elbowmethod(clusters,inertias)"
      ],
      "execution_count": 154,
      "outputs": [
        {
          "output_type": "display_data",
          "data": {
            "image/png": "[encoded data removed]",
            "text/plain": [
              "<Figure size 432x288 with 1 Axes>"
            ]
          },
          "metadata": {
            "tags": [],
            "needs_background": "light"
          }
        }
      ]
    },
    {
      "cell_type": "code",
      "metadata": {
        "colab": {
          "base_uri": "https://localhost:8080/"
        },
        "id": "EcXdGD-1lQOK",
        "outputId": "1d52dfff-f3bc-463d-8a71-169ce099346e"
      },
      "source": [
        "kmeans=KMeans(n_clusters=3,max_iter=300,random_state=0)\n",
        "y_kmeans=kmeans.fit_predict(x)\n",
        "y_kmeans"
      ],
      "execution_count": 155,
      "outputs": [
        {
          "output_type": "execute_result",
          "data": {
            "text/plain": [
              "array([2, 1, 1, ..., 2, 1, 2], dtype=int32)"
            ]
          },
          "metadata": {
            "tags": []
          },
          "execution_count": 155
        }
      ]
    },
    {
      "cell_type": "code",
      "metadata": {
        "colab": {
          "base_uri": "https://localhost:8080/",
          "height": 483
        },
        "id": "SgzV5cmglQSI",
        "outputId": "e13cc818-a3d7-43c0-8879-4c89fc1b2a41"
      },
      "source": [
        "plt.figure(figsize=(10,8))\n",
        "plt.scatter(x[y_kmeans==0,0],x[y_kmeans==0,1],c='red',label='Iris-setos')\n",
        "plt.scatter(x[y_kmeans==1,0],x[y_kmeans==1,1],c='blue',label='Iris-versicolour')\n",
        "plt.scatter(x[y_kmeans==2,0],x[y_kmeans==2,1],c='green',label='Iris-virginica')\n",
        "plt.scatter(kmeans.cluster_centers_[:,0],kmeans.cluster_centers_[:,1],c='yellow',label='Centroid')\n",
        "plt.legend()\n",
        "plt.show()"
      ],
      "execution_count": 156,
      "outputs": [
        {
          "output_type": "display_data",
          "data": {
            "image/png": "[encoded data removed]",
            "text/plain": [
              "<Figure size 720x576 with 1 Axes>"
            ]
          },
          "metadata": {
            "tags": [],
            "needs_background": "light"
          }
        }
      ]
    },
    {
      "cell_type": "code",
      "metadata": {
        "id": "085LCGOllQ0Y"
      },
      "source": [
        ""
      ],
      "execution_count": null,
      "outputs": []
    },
    {
      "cell_type": "code",
      "metadata": {
        "id": "BMIu6X-_lQ3D"
      },
      "source": [
        ""
      ],
      "execution_count": null,
      "outputs": []
    },
    {
      "cell_type": "code",
      "metadata": {
        "id": "1AN9san6lQ5W"
      },
      "source": [
        ""
      ],
      "execution_count": null,
      "outputs": []
    },
    {
      "cell_type": "code",
      "metadata": {
        "id": "Oy7zJjezlQ8m"
      },
      "source": [
        ""
      ],
      "execution_count": null,
      "outputs": []
    },
    {
      "cell_type": "code",
      "metadata": {
        "id": "Wzl3P5illQ_c"
      },
      "source": [
        ""
      ],
      "execution_count": null,
      "outputs": []
    },
    {
      "cell_type": "code",
      "metadata": {
        "id": "54_Wia_rlRB0"
      },
      "source": [
        ""
      ],
      "execution_count": null,
      "outputs": []
    }
  ]
}